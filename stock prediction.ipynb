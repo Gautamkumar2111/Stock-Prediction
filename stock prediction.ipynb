{
 "cells": [
  {
   "cell_type": "code",
   "execution_count": 2,
   "id": "da525ff4",
   "metadata": {},
   "outputs": [],
   "source": [
    "import pandas as pd"
   ]
  },
  {
   "cell_type": "code",
   "execution_count": 3,
   "id": "4de1c744",
   "metadata": {},
   "outputs": [],
   "source": [
    "df=pd.read_csv(\"NSE-TATAGLOBAL11.csv\")"
   ]
  },
  {
   "cell_type": "code",
   "execution_count": 4,
   "id": "e84f11a9",
   "metadata": {},
   "outputs": [
    {
     "data": {
      "text/html": [
       "<div>\n",
       "<style scoped>\n",
       "    .dataframe tbody tr th:only-of-type {\n",
       "        vertical-align: middle;\n",
       "    }\n",
       "\n",
       "    .dataframe tbody tr th {\n",
       "        vertical-align: top;\n",
       "    }\n",
       "\n",
       "    .dataframe thead th {\n",
       "        text-align: right;\n",
       "    }\n",
       "</style>\n",
       "<table border=\"1\" class=\"dataframe\">\n",
       "  <thead>\n",
       "    <tr style=\"text-align: right;\">\n",
       "      <th></th>\n",
       "      <th>Date</th>\n",
       "      <th>Open</th>\n",
       "      <th>High</th>\n",
       "      <th>Low</th>\n",
       "      <th>Last</th>\n",
       "      <th>Close</th>\n",
       "      <th>Total Trade Quantity</th>\n",
       "      <th>Turnover (Lacs)</th>\n",
       "    </tr>\n",
       "  </thead>\n",
       "  <tbody>\n",
       "    <tr>\n",
       "      <th>1230</th>\n",
       "      <td>2013-10-14</td>\n",
       "      <td>160.85</td>\n",
       "      <td>161.45</td>\n",
       "      <td>157.70</td>\n",
       "      <td>159.3</td>\n",
       "      <td>159.45</td>\n",
       "      <td>1281419.0</td>\n",
       "      <td>2039.09</td>\n",
       "    </tr>\n",
       "    <tr>\n",
       "      <th>1231</th>\n",
       "      <td>2013-10-11</td>\n",
       "      <td>161.15</td>\n",
       "      <td>163.45</td>\n",
       "      <td>159.00</td>\n",
       "      <td>159.8</td>\n",
       "      <td>160.05</td>\n",
       "      <td>1880046.0</td>\n",
       "      <td>3030.76</td>\n",
       "    </tr>\n",
       "    <tr>\n",
       "      <th>1232</th>\n",
       "      <td>2013-10-10</td>\n",
       "      <td>156.00</td>\n",
       "      <td>160.80</td>\n",
       "      <td>155.85</td>\n",
       "      <td>160.3</td>\n",
       "      <td>160.15</td>\n",
       "      <td>3124853.0</td>\n",
       "      <td>4978.80</td>\n",
       "    </tr>\n",
       "    <tr>\n",
       "      <th>1233</th>\n",
       "      <td>2013-10-09</td>\n",
       "      <td>155.70</td>\n",
       "      <td>158.20</td>\n",
       "      <td>154.15</td>\n",
       "      <td>155.3</td>\n",
       "      <td>155.55</td>\n",
       "      <td>2049580.0</td>\n",
       "      <td>3204.49</td>\n",
       "    </tr>\n",
       "    <tr>\n",
       "      <th>1234</th>\n",
       "      <td>2013-10-08</td>\n",
       "      <td>157.00</td>\n",
       "      <td>157.80</td>\n",
       "      <td>155.20</td>\n",
       "      <td>155.8</td>\n",
       "      <td>155.80</td>\n",
       "      <td>1720413.0</td>\n",
       "      <td>2688.94</td>\n",
       "    </tr>\n",
       "  </tbody>\n",
       "</table>\n",
       "</div>"
      ],
      "text/plain": [
       "            Date    Open    High     Low   Last   Close  Total Trade Quantity  \\\n",
       "1230  2013-10-14  160.85  161.45  157.70  159.3  159.45             1281419.0   \n",
       "1231  2013-10-11  161.15  163.45  159.00  159.8  160.05             1880046.0   \n",
       "1232  2013-10-10  156.00  160.80  155.85  160.3  160.15             3124853.0   \n",
       "1233  2013-10-09  155.70  158.20  154.15  155.3  155.55             2049580.0   \n",
       "1234  2013-10-08  157.00  157.80  155.20  155.8  155.80             1720413.0   \n",
       "\n",
       "      Turnover (Lacs)  \n",
       "1230          2039.09  \n",
       "1231          3030.76  \n",
       "1232          4978.80  \n",
       "1233          3204.49  \n",
       "1234          2688.94  "
      ]
     },
     "execution_count": 4,
     "metadata": {},
     "output_type": "execute_result"
    }
   ],
   "source": [
    "df.head()\n",
    "df.tail()"
   ]
  },
  {
   "cell_type": "code",
   "execution_count": 5,
   "id": "4759939a",
   "metadata": {},
   "outputs": [],
   "source": [
    "df1=df.reset_index()['Close']"
   ]
  },
  {
   "cell_type": "code",
   "execution_count": 6,
   "id": "e28a4e2c",
   "metadata": {},
   "outputs": [
    {
     "data": {
      "text/plain": [
       "0    215.15\n",
       "1    209.20\n",
       "2    218.20\n",
       "3    227.60\n",
       "4    230.90\n",
       "Name: Close, dtype: float64"
      ]
     },
     "execution_count": 6,
     "metadata": {},
     "output_type": "execute_result"
    }
   ],
   "source": [
    "df1.head()"
   ]
  },
  {
   "cell_type": "code",
   "execution_count": 7,
   "id": "4b06662b",
   "metadata": {},
   "outputs": [
    {
     "data": {
      "text/plain": [
       "(1235,)"
      ]
     },
     "execution_count": 7,
     "metadata": {},
     "output_type": "execute_result"
    }
   ],
   "source": [
    "df1.shape"
   ]
  },
  {
   "cell_type": "code",
   "execution_count": 8,
   "id": "16f01a7f",
   "metadata": {},
   "outputs": [],
   "source": [
    "import matplotlib.pyplot as plt"
   ]
  },
  {
   "cell_type": "code",
   "execution_count": 8,
   "id": "f5d451b6",
   "metadata": {},
   "outputs": [
    {
     "data": {
      "text/plain": [
       "[<matplotlib.lines.Line2D at 0x19b70499a00>]"
      ]
     },
     "execution_count": 8,
     "metadata": {},
     "output_type": "execute_result"
    },
    {
     "data": {
      "image/png": "[encoded data removed]",
      "text/plain": [
       "<Figure size 432x288 with 1 Axes>"
      ]
     },
     "metadata": {
      "needs_background": "light"
     },
     "output_type": "display_data"
    }
   ],
   "source": [
    "plt.plot(df1)"
   ]
  },
  {
   "cell_type": "code",
   "execution_count": 9,
   "id": "e1f10993",
   "metadata": {},
   "outputs": [],
   "source": [
    "import numpy as np"
   ]
  },
  {
   "cell_type": "code",
   "execution_count": 10,
   "id": "ef7caef3",
   "metadata": {},
   "outputs": [],
   "source": [
    "from sklearn.preprocessing import MinMaxScaler\n",
    "scaler=MinMaxScaler(feature_range=(0,1))"
   ]
  },
  {
   "cell_type": "code",
   "execution_count": 11,
   "id": "4cbddae3",
   "metadata": {},
   "outputs": [],
   "source": [
    "df1=scaler.fit_transform(np.array(df1).reshape(-1,1))"
   ]
  },
  {
   "cell_type": "code",
   "execution_count": 12,
   "id": "db8a655e",
   "metadata": {},
   "outputs": [
    {
     "data": {
      "text/plain": [
       "(1235, 1)"
      ]
     },
     "execution_count": 12,
     "metadata": {},
     "output_type": "execute_result"
    }
   ],
   "source": [
    "df1.shape"
   ]
  },
  {
   "cell_type": "code",
   "execution_count": 13,
   "id": "dc529611",
   "metadata": {},
   "outputs": [
    {
     "data": {
      "text/plain": [
       "array([[0.50425818],\n",
       "       [0.47758853],\n",
       "       [0.51792918],\n",
       "       ...,\n",
       "       [0.25773196],\n",
       "       [0.2371134 ],\n",
       "       [0.23823398]])"
      ]
     },
     "execution_count": 13,
     "metadata": {},
     "output_type": "execute_result"
    }
   ],
   "source": [
    "df1"
   ]
  },
  {
   "cell_type": "code",
   "execution_count": 14,
   "id": "11110b73",
   "metadata": {},
   "outputs": [],
   "source": [
    "training_size=int(len(df1)*0.70)\n",
    "test_size=len(df1)-training_size\n",
    "train_data,test_data=df1[0:training_size,:],df1[training_size:len(df1),:1]"
   ]
  },
  {
   "cell_type": "code",
   "execution_count": 15,
   "id": "fea1ba2a",
   "metadata": {},
   "outputs": [
    {
     "data": {
      "text/plain": [
       "(864, 371)"
      ]
     },
     "execution_count": 15,
     "metadata": {},
     "output_type": "execute_result"
    }
   ],
   "source": [
    "training_size,test_size"
   ]
  },
  {
   "cell_type": "code",
   "execution_count": 16,
   "id": "38a9d4fd",
   "metadata": {},
   "outputs": [],
   "source": [
    "import numpy"
   ]
  },
  {
   "cell_type": "code",
   "execution_count": 17,
   "id": "2540a272",
   "metadata": {},
   "outputs": [],
   "source": [
    "def create_dataset(dataset,time_step=1):\n",
    "\n",
    "    dataX,dataY=[],[]\n",
    "    for i in range(len(dataset)-time_step-1):\n",
    "        a=dataset[i:(i+time_step),0]\n",
    "        dataX.append(a)\n",
    "        dataY.append(dataset[i+time_step,0])\n",
    "    return numpy.array(dataX),numpy.array(dataY)"
   ]
  },
  {
   "cell_type": "code",
   "execution_count": 18,
   "id": "fc61ac62",
   "metadata": {},
   "outputs": [],
   "source": [
    "time_step=100\n",
    "x_train,y_train=create_dataset(train_data,time_step)\n",
    "x_test,y_test=create_dataset(test_data,time_step)"
   ]
  },
  {
   "cell_type": "code",
   "execution_count": 19,
   "id": "deff30f5",
   "metadata": {},
   "outputs": [
    {
     "name": "stdout",
     "output_type": "stream",
     "text": [
      "[[0.50425818 0.47758853 0.51792918 ... 0.64926042 0.62057373 0.62752129]\n",
      " [0.47758853 0.51792918 0.56006275 ... 0.62057373 0.62752129 0.6869117 ]\n",
      " [0.51792918 0.56006275 0.57485433 ... 0.62752129 0.6869117  0.82855222]\n",
      " ...\n",
      " [0.082026   0.07978485 0.07866428 ... 0.21313312 0.21066786 0.21313312]\n",
      " [0.07978485 0.07866428 0.09636934 ... 0.21066786 0.21313312 0.22680412]\n",
      " [0.07866428 0.09636934 0.07261318 ... 0.21313312 0.22680412 0.24607799]]\n"
     ]
    }
   ],
   "source": [
    "print(x_train)"
   ]
  },
  {
   "cell_type": "code",
   "execution_count": 20,
   "id": "3e269b00",
   "metadata": {},
   "outputs": [
    {
     "name": "stdout",
     "output_type": "stream",
     "text": [
      "(270, 100)\n",
      "(270,)\n"
     ]
    },
    {
     "data": {
      "text/plain": [
       "(None, None)"
      ]
     },
     "execution_count": 20,
     "metadata": {},
     "output_type": "execute_result"
    }
   ],
   "source": [
    "print(x_test.shape),print(y_test.shape)"
   ]
  },
  {
   "cell_type": "code",
   "execution_count": 21,
   "id": "72ca2543",
   "metadata": {},
   "outputs": [],
   "source": [
    "x_train=x_train.reshape(x_train.shape[0],x_train.shape[1],1)\n",
    "x_test=x_test.reshape(x_test.shape[0],x_test.shape[1],1)"
   ]
  },
  {
   "cell_type": "code",
   "execution_count": 22,
   "id": "3b07c840",
   "metadata": {},
   "outputs": [],
   "source": [
    "from tensorflow.python.keras.models import Sequential\n",
    "from tensorflow.python.keras.layers import Dense\n",
    "from tensorflow.python.keras.layers import LSTM"
   ]
  },
  {
   "cell_type": "code",
   "execution_count": 23,
   "id": "4569f0e5",
   "metadata": {},
   "outputs": [],
   "source": [
    "model=Sequential()\n",
    "model.add(LSTM(50,return_sequences=True,input_shape=(100,1)))\n",
    "model.add(LSTM(50,return_sequences=True))\n",
    "model.add(LSTM(50))\n",
    "model.add(Dense(1))\n",
    "model.compile(loss=\"mean_squared_error\", optimizer=\"adam\")"
   ]
  },
  {
   "cell_type": "code",
   "execution_count": 24,
   "id": "e5a7df1d",
   "metadata": {},
   "outputs": [
    {
     "name": "stdout",
     "output_type": "stream",
     "text": [
      "Model: \"sequential\"\n",
      "_________________________________________________________________\n",
      "Layer (type)                 Output Shape              Param #   \n",
      "=================================================================\n",
      "lstm (LSTM)                  (None, 100, 50)           10400     \n",
      "_________________________________________________________________\n",
      "lstm_1 (LSTM)                (None, 100, 50)           20200     \n",
      "_________________________________________________________________\n",
      "lstm_2 (LSTM)                (None, 50)                20200     \n",
      "_________________________________________________________________\n",
      "dense (Dense)                (None, 1)                 51        \n",
      "=================================================================\n",
      "Total params: 50,851\n",
      "Trainable params: 50,851\n",
      "Non-trainable params: 0\n",
      "_________________________________________________________________\n"
     ]
    }
   ],
   "source": [
    "model.summary()"
   ]
  },
  {
   "cell_type": "code",
   "execution_count": 41,
   "id": "c04455a2",
   "metadata": {},
   "outputs": [
    {
     "name": "stdout",
     "output_type": "stream",
     "text": [
      "Epoch 1/100\n",
      "12/12 [==============================] - 35s 611ms/step - loss: 0.0480 - val_loss: 0.0053\n",
      "Epoch 2/100\n",
      "12/12 [==============================] - 4s 341ms/step - loss: 0.0113 - val_loss: 0.0023\n",
      "Epoch 3/100\n",
      "12/12 [==============================] - 4s 380ms/step - loss: 0.0044 - val_loss: 0.0037\n",
      "Epoch 4/100\n",
      "12/12 [==============================] - 4s 366ms/step - loss: 0.0034 - val_loss: 0.0012\n",
      "Epoch 5/100\n",
      "12/12 [==============================] - 4s 370ms/step - loss: 0.0025 - val_loss: 9.3601e-04\n",
      "Epoch 6/100\n",
      "12/12 [==============================] - 4s 377ms/step - loss: 0.0023 - val_loss: 9.6333e-04\n",
      "Epoch 7/100\n",
      "12/12 [==============================] - 5s 386ms/step - loss: 0.0022 - val_loss: 0.0011\n",
      "Epoch 8/100\n",
      "12/12 [==============================] - 4s 367ms/step - loss: 0.0021 - val_loss: 0.0010\n",
      "Epoch 9/100\n",
      "12/12 [==============================] - 4s 356ms/step - loss: 0.0020 - val_loss: 8.7048e-04\n",
      "Epoch 10/100\n",
      "12/12 [==============================] - 4s 352ms/step - loss: 0.0020 - val_loss: 8.7516e-04\n",
      "Epoch 11/100\n",
      "12/12 [==============================] - 4s 358ms/step - loss: 0.0019 - val_loss: 8.3997e-04\n",
      "Epoch 12/100\n",
      "12/12 [==============================] - 4s 374ms/step - loss: 0.0018 - val_loss: 8.2709e-04\n",
      "Epoch 13/100\n",
      "12/12 [==============================] - 4s 366ms/step - loss: 0.0017 - val_loss: 8.0615e-04\n",
      "Epoch 14/100\n",
      "12/12 [==============================] - 4s 367ms/step - loss: 0.0017 - val_loss: 7.9585e-04\n",
      "Epoch 15/100\n",
      "12/12 [==============================] - 4s 345ms/step - loss: 0.0017 - val_loss: 8.0166e-04\n",
      "Epoch 16/100\n",
      "12/12 [==============================] - 4s 369ms/step - loss: 0.0016 - val_loss: 9.0659e-04\n",
      "Epoch 17/100\n",
      "12/12 [==============================] - 4s 350ms/step - loss: 0.0015 - val_loss: 7.7484e-04\n",
      "Epoch 18/100\n",
      "12/12 [==============================] - 4s 377ms/step - loss: 0.0014 - val_loss: 8.5774e-04\n",
      "Epoch 19/100\n",
      "12/12 [==============================] - 5s 395ms/step - loss: 0.0014 - val_loss: 7.5216e-04\n",
      "Epoch 20/100\n",
      "12/12 [==============================] - 5s 380ms/step - loss: 0.0014 - val_loss: 7.4848e-04\n",
      "Epoch 21/100\n",
      "12/12 [==============================] - 5s 380ms/step - loss: 0.0014 - val_loss: 7.5452e-04\n",
      "Epoch 22/100\n",
      "12/12 [==============================] - 4s 369ms/step - loss: 0.0013 - val_loss: 7.2541e-04\n",
      "Epoch 23/100\n",
      "12/12 [==============================] - 5s 377ms/step - loss: 0.0014 - val_loss: 7.5817e-04\n",
      "Epoch 24/100\n",
      "12/12 [==============================] - 4s 358ms/step - loss: 0.0015 - val_loss: 7.1827e-04\n",
      "Epoch 25/100\n",
      "12/12 [==============================] - 4s 369ms/step - loss: 0.0013 - val_loss: 7.4243e-04\n",
      "Epoch 26/100\n",
      "12/12 [==============================] - 4s 359ms/step - loss: 0.0014 - val_loss: 6.9162e-04\n",
      "Epoch 27/100\n",
      "12/12 [==============================] - 4s 357ms/step - loss: 0.0013 - val_loss: 7.4555e-04\n",
      "Epoch 28/100\n",
      "12/12 [==============================] - 4s 374ms/step - loss: 0.0012 - val_loss: 6.9890e-04\n",
      "Epoch 29/100\n",
      "12/12 [==============================] - 4s 371ms/step - loss: 0.0012 - val_loss: 7.5482e-04\n",
      "Epoch 30/100\n",
      "12/12 [==============================] - 4s 369ms/step - loss: 0.0012 - val_loss: 8.3103e-04\n",
      "Epoch 31/100\n",
      "12/12 [==============================] - 5s 409ms/step - loss: 0.0013 - val_loss: 8.1473e-04\n",
      "Epoch 32/100\n",
      "12/12 [==============================] - 4s 364ms/step - loss: 0.0013 - val_loss: 6.6425e-04\n",
      "Epoch 33/100\n",
      "12/12 [==============================] - 4s 360ms/step - loss: 0.0014 - val_loss: 6.3898e-04\n",
      "Epoch 34/100\n",
      "12/12 [==============================] - 4s 356ms/step - loss: 0.0012 - val_loss: 7.7097e-04\n",
      "Epoch 35/100\n",
      "12/12 [==============================] - 4s 361ms/step - loss: 0.0011 - val_loss: 6.7382e-04\n",
      "Epoch 36/100\n",
      "12/12 [==============================] - 5s 382ms/step - loss: 0.0011 - val_loss: 6.7791e-04\n",
      "Epoch 37/100\n",
      "12/12 [==============================] - 3s 247ms/step - loss: 0.0011 - val_loss: 6.1416e-04\n",
      "Epoch 38/100\n",
      "12/12 [==============================] - 3s 246ms/step - loss: 0.0010 - val_loss: 6.4701e-04\n",
      "Epoch 39/100\n",
      "12/12 [==============================] - 3s 246ms/step - loss: 0.0010 - val_loss: 6.7817e-04\n",
      "Epoch 40/100\n",
      "12/12 [==============================] - 3s 240ms/step - loss: 0.0011 - val_loss: 6.4570e-04\n",
      "Epoch 41/100\n",
      "12/12 [==============================] - 3s 245ms/step - loss: 9.6202e-04 - val_loss: 6.2038e-04\n",
      "Epoch 42/100\n",
      "12/12 [==============================] - 3s 247ms/step - loss: 9.7160e-04 - val_loss: 6.0267e-04\n",
      "Epoch 43/100\n",
      "12/12 [==============================] - 3s 257ms/step - loss: 0.0010 - val_loss: 6.0934e-04\n",
      "Epoch 44/100\n",
      "12/12 [==============================] - 3s 251ms/step - loss: 0.0010 - val_loss: 6.2823e-04\n",
      "Epoch 45/100\n",
      "12/12 [==============================] - 3s 266ms/step - loss: 9.7131e-04 - val_loss: 5.7303e-04\n",
      "Epoch 46/100\n",
      "12/12 [==============================] - 3s 248ms/step - loss: 0.0010 - val_loss: 8.3476e-04\n",
      "Epoch 47/100\n",
      "12/12 [==============================] - 3s 245ms/step - loss: 0.0010 - val_loss: 5.6470e-04\n",
      "Epoch 48/100\n",
      "12/12 [==============================] - 3s 258ms/step - loss: 0.0010 - val_loss: 5.7899e-04\n",
      "Epoch 49/100\n",
      "12/12 [==============================] - 3s 250ms/step - loss: 9.1565e-04 - val_loss: 6.2709e-04\n",
      "Epoch 50/100\n",
      "12/12 [==============================] - 3s 240ms/step - loss: 9.1040e-04 - val_loss: 6.1424e-04\n",
      "Epoch 51/100\n",
      "12/12 [==============================] - 3s 241ms/step - loss: 0.0010 - val_loss: 6.1844e-04\n",
      "Epoch 52/100\n",
      "12/12 [==============================] - 3s 242ms/step - loss: 0.0010 - val_loss: 5.6771e-04\n",
      "Epoch 53/100\n",
      "12/12 [==============================] - 3s 242ms/step - loss: 8.7377e-04 - val_loss: 5.4432e-04\n",
      "Epoch 54/100\n",
      "12/12 [==============================] - 3s 246ms/step - loss: 8.2716e-04 - val_loss: 5.6966e-04\n",
      "Epoch 55/100\n",
      "12/12 [==============================] - 3s 242ms/step - loss: 7.9171e-04 - val_loss: 5.7481e-04\n",
      "Epoch 56/100\n",
      "12/12 [==============================] - 3s 242ms/step - loss: 8.0162e-04 - val_loss: 5.7172e-04\n",
      "Epoch 57/100\n",
      "12/12 [==============================] - 3s 239ms/step - loss: 7.8084e-04 - val_loss: 5.7992e-04\n",
      "Epoch 58/100\n",
      "12/12 [==============================] - 3s 240ms/step - loss: 8.0666e-04 - val_loss: 5.0900e-04\n",
      "Epoch 59/100\n",
      "12/12 [==============================] - 3s 240ms/step - loss: 8.0325e-04 - val_loss: 5.9698e-04\n",
      "Epoch 60/100\n",
      "12/12 [==============================] - 3s 241ms/step - loss: 7.5040e-04 - val_loss: 5.0789e-04\n",
      "Epoch 61/100\n",
      "12/12 [==============================] - 3s 266ms/step - loss: 7.2647e-04 - val_loss: 6.4018e-04\n",
      "Epoch 62/100\n",
      "12/12 [==============================] - 3s 264ms/step - loss: 7.0996e-04 - val_loss: 5.8057e-04\n",
      "Epoch 63/100\n",
      "12/12 [==============================] - 3s 240ms/step - loss: 7.0768e-04 - val_loss: 4.9423e-04\n",
      "Epoch 64/100\n",
      "12/12 [==============================] - 3s 246ms/step - loss: 6.6962e-04 - val_loss: 5.6399e-04\n",
      "Epoch 65/100\n",
      "12/12 [==============================] - 3s 238ms/step - loss: 7.2742e-04 - val_loss: 5.5707e-04\n",
      "Epoch 66/100\n",
      "12/12 [==============================] - 3s 239ms/step - loss: 6.9163e-04 - val_loss: 4.6200e-04\n",
      "Epoch 67/100\n",
      "12/12 [==============================] - 3s 243ms/step - loss: 6.3873e-04 - val_loss: 6.5300e-04\n",
      "Epoch 68/100\n",
      "12/12 [==============================] - 3s 241ms/step - loss: 7.2950e-04 - val_loss: 4.5518e-04\n",
      "Epoch 69/100\n",
      "12/12 [==============================] - 3s 240ms/step - loss: 6.4553e-04 - val_loss: 5.0154e-04\n",
      "Epoch 70/100\n",
      "12/12 [==============================] - 3s 242ms/step - loss: 5.9540e-04 - val_loss: 5.1047e-04\n",
      "Epoch 71/100\n",
      "12/12 [==============================] - 3s 241ms/step - loss: 6.1963e-04 - val_loss: 4.3613e-04\n",
      "Epoch 72/100\n",
      "12/12 [==============================] - 3s 240ms/step - loss: 5.9772e-04 - val_loss: 4.3924e-04\n",
      "Epoch 73/100\n",
      "12/12 [==============================] - 3s 239ms/step - loss: 6.2331e-04 - val_loss: 4.1846e-04\n",
      "Epoch 74/100\n",
      "12/12 [==============================] - 3s 238ms/step - loss: 5.7611e-04 - val_loss: 5.6285e-04\n",
      "Epoch 75/100\n",
      "12/12 [==============================] - 3s 239ms/step - loss: 5.5821e-04 - val_loss: 4.1329e-04\n",
      "Epoch 76/100\n",
      "12/12 [==============================] - 3s 241ms/step - loss: 5.7901e-04 - val_loss: 4.3275e-04\n",
      "Epoch 77/100\n",
      "12/12 [==============================] - 3s 247ms/step - loss: 5.6416e-04 - val_loss: 4.5116e-04\n",
      "Epoch 78/100\n",
      "12/12 [==============================] - 3s 239ms/step - loss: 5.3050e-04 - val_loss: 4.0077e-04\n",
      "Epoch 79/100\n",
      "12/12 [==============================] - 3s 239ms/step - loss: 5.4292e-04 - val_loss: 4.5291e-04\n",
      "Epoch 80/100\n",
      "12/12 [==============================] - 3s 238ms/step - loss: 5.0970e-04 - val_loss: 3.8581e-04\n",
      "Epoch 81/100\n",
      "12/12 [==============================] - 3s 239ms/step - loss: 5.0750e-04 - val_loss: 5.0059e-04\n",
      "Epoch 82/100\n",
      "12/12 [==============================] - 3s 240ms/step - loss: 5.0901e-04 - val_loss: 4.5589e-04\n",
      "Epoch 83/100\n",
      "12/12 [==============================] - 3s 240ms/step - loss: 4.8353e-04 - val_loss: 4.1970e-04\n",
      "Epoch 84/100\n",
      "12/12 [==============================] - 3s 240ms/step - loss: 5.1505e-04 - val_loss: 3.6929e-04\n",
      "Epoch 85/100\n",
      "12/12 [==============================] - 3s 239ms/step - loss: 5.3533e-04 - val_loss: 3.6576e-04\n",
      "Epoch 86/100\n",
      "12/12 [==============================] - 3s 238ms/step - loss: 5.1357e-04 - val_loss: 3.6797e-04\n",
      "Epoch 87/100\n",
      "12/12 [==============================] - 3s 240ms/step - loss: 4.5857e-04 - val_loss: 3.8749e-04\n",
      "Epoch 88/100\n",
      "12/12 [==============================] - 3s 241ms/step - loss: 4.6776e-04 - val_loss: 3.6160e-04\n",
      "Epoch 89/100\n",
      "12/12 [==============================] - 3s 240ms/step - loss: 5.0368e-04 - val_loss: 3.5032e-04\n",
      "Epoch 90/100\n",
      "12/12 [==============================] - 3s 244ms/step - loss: 4.8044e-04 - val_loss: 3.5112e-04\n",
      "Epoch 91/100\n",
      "12/12 [==============================] - 3s 239ms/step - loss: 4.3534e-04 - val_loss: 3.3785e-04\n",
      "Epoch 92/100\n",
      "12/12 [==============================] - 3s 239ms/step - loss: 4.4557e-04 - val_loss: 4.3258e-04\n",
      "Epoch 93/100\n",
      "12/12 [==============================] - 3s 239ms/step - loss: 4.9143e-04 - val_loss: 3.7289e-04\n",
      "Epoch 94/100\n",
      "12/12 [==============================] - 3s 239ms/step - loss: 6.6781e-04 - val_loss: 3.4648e-04\n",
      "Epoch 95/100\n",
      "12/12 [==============================] - 3s 239ms/step - loss: 5.9225e-04 - val_loss: 4.4757e-04\n",
      "Epoch 96/100\n",
      "12/12 [==============================] - 3s 238ms/step - loss: 5.9756e-04 - val_loss: 5.9225e-04\n",
      "Epoch 97/100\n",
      "12/12 [==============================] - 3s 239ms/step - loss: 6.0552e-04 - val_loss: 3.2025e-04\n",
      "Epoch 98/100\n",
      "12/12 [==============================] - 3s 240ms/step - loss: 4.6072e-04 - val_loss: 3.9462e-04\n",
      "Epoch 99/100\n",
      "12/12 [==============================] - 3s 238ms/step - loss: 4.3163e-04 - val_loss: 3.7835e-04\n",
      "Epoch 100/100\n",
      "12/12 [==============================] - 3s 239ms/step - loss: 4.1970e-04 - val_loss: 3.0914e-04\n"
     ]
    },
    {
     "data": {
      "text/plain": [
       "<tensorflow.python.keras.callbacks.History at 0x23cba0b7280>"
      ]
     },
     "execution_count": 41,
     "metadata": {},
     "output_type": "execute_result"
    }
   ],
   "source": [
    "model.fit(x_train,y_train,validation_data=(x_test,y_test),epochs=100,batch_size=64,verbose=1)"
   ]
  },
  {
   "cell_type": "code",
   "execution_count": 42,
   "id": "ddd0fbc2",
   "metadata": {},
   "outputs": [],
   "source": [
    "import tensorflow as tf"
   ]
  },
  {
   "cell_type": "code",
   "execution_count": 43,
   "id": "4954831b",
   "metadata": {},
   "outputs": [],
   "source": [
    "train_predict=model.predict(x_train)\n",
    "test_predict=model.predict(x_test)"
   ]
  },
  {
   "cell_type": "code",
   "execution_count": 44,
   "id": "81c20b70",
   "metadata": {},
   "outputs": [],
   "source": [
    "train_predict=scaler.inverse_transform(train_predict)\n",
    "test_predict=scaler.inverse_transform(test_predict)"
   ]
  },
  {
   "cell_type": "code",
   "execution_count": 45,
   "id": "8c64e4dd",
   "metadata": {},
   "outputs": [],
   "source": [
    "import math"
   ]
  },
  {
   "cell_type": "code",
   "execution_count": 46,
   "id": "bd02c42f",
   "metadata": {},
   "outputs": [
    {
     "data": {
      "text/plain": [
       "176.15724959794792"
      ]
     },
     "execution_count": 46,
     "metadata": {},
     "output_type": "execute_result"
    }
   ],
   "source": [
    "from sklearn.metrics import mean_squared_error\n",
    "math.sqrt(mean_squared_error(y_train,train_predict))"
   ]
  },
  {
   "cell_type": "code",
   "execution_count": 47,
   "id": "3035f036",
   "metadata": {},
   "outputs": [
    {
     "data": {
      "text/plain": [
       "153.92192629712437"
      ]
     },
     "execution_count": 47,
     "metadata": {},
     "output_type": "execute_result"
    }
   ],
   "source": [
    "math.sqrt(mean_squared_error(y_test,test_predict))"
   ]
  },
  {
   "cell_type": "code",
   "execution_count": 48,
   "id": "ebc56268",
   "metadata": {},
   "outputs": [
    {
     "data": {
      "image/png": "[encoded data removed]",
      "text/plain": [
       "<Figure size 432x288 with 1 Axes>"
      ]
     },
     "metadata": {
      "needs_background": "light"
     },
     "output_type": "display_data"
    }
   ],
   "source": [
    "## plotting\n",
    "# shift train prediction for plotting\n",
    "look_back=100\n",
    "trainPredictPlot = numpy.empty_like(df1)\n",
    "trainPredictPlot[:,:] = np.nan\n",
    "trainPredictPlot[look_back:len(train_predict)+look_back,:] = train_predict\n",
    "# shift test prediction for plotting\n",
    "testPredictPlot = numpy.empty_like(df1)\n",
    "testPredictPlot[:,:] = numpy.nan\n",
    "testPredictPlot[len(train_predict)+(look_back*2)+1:len(df1)-1,:] = test_predict \n",
    "# plot baseline and predictions\n",
    "plt.plot(scaler.inverse_transform(df1))\n",
    "plt.plot(trainPredictPlot)\n",
    "plt.plot(testPredictPlot)\n",
    "plt.show()"
   ]
  },
  {
   "cell_type": "code",
   "execution_count": 49,
   "id": "5439c9a9",
   "metadata": {},
   "outputs": [
    {
     "data": {
      "text/plain": [
       "371"
      ]
     },
     "execution_count": 49,
     "metadata": {},
     "output_type": "execute_result"
    }
   ],
   "source": [
    "len(test_data)"
   ]
  },
  {
   "cell_type": "code",
   "execution_count": 50,
   "id": "b18f08d9",
   "metadata": {},
   "outputs": [
    {
     "data": {
      "text/plain": [
       "(1, 100)"
      ]
     },
     "execution_count": 50,
     "metadata": {},
     "output_type": "execute_result"
    }
   ],
   "source": [
    "x_input=test_data[271:].reshape(1,-1)\n",
    "x_input.shape"
   ]
  },
  {
   "cell_type": "code",
   "execution_count": 52,
   "id": "e13ff535",
   "metadata": {},
   "outputs": [],
   "source": [
    "temp_input=list(x_input)\n",
    "temp_input=temp_input[0].tolist()"
   ]
  },
  {
   "cell_type": "code",
   "execution_count": 53,
   "id": "4201b831",
   "metadata": {},
   "outputs": [
    {
     "name": "stdout",
     "output_type": "stream",
     "text": [
      "[0.24572021]\n",
      "101\n",
      "1 day input [0.16651726 0.17279247 0.17951591 0.17637831 0.17234424 0.16898252\n",
      " 0.16831017 0.16248319 0.16987898 0.17525773 0.18556701 0.18915285\n",
      " 0.18354998 0.1824294  0.17256835 0.18108472 0.18153294 0.17055132\n",
      " 0.17189601 0.16943075 0.17705065 0.16270731 0.17346481 0.18646347\n",
      " 0.20416853 0.21156432 0.20259973 0.20461676 0.19520394 0.20797848\n",
      " 0.22142537 0.22142537 0.22523532 0.23890632 0.2447333  0.24406096\n",
      " 0.24137158 0.24271627 0.24069924 0.23442403 0.25930076 0.25907665\n",
      " 0.25616316 0.24831914 0.26176602 0.2447333  0.23330345 0.22613178\n",
      " 0.20103093 0.20416853 0.18870462 0.18287763 0.19049753 0.19766921\n",
      " 0.19878978 0.20080681 0.19744509 0.19520394 0.19722098 0.19229045\n",
      " 0.19789332 0.20909906 0.20730614 0.20170327 0.19004931 0.19206634\n",
      " 0.17817122 0.17548185 0.18377409 0.19139399 0.18780816 0.20192739\n",
      " 0.18511878 0.18668758 0.23263111 0.2415957  0.25750784 0.25862842\n",
      " 0.27297176 0.29112506 0.29964142 0.29157329 0.27498879 0.27947109\n",
      " 0.26781712 0.27162707 0.27431645 0.28148812 0.25145675 0.26535186\n",
      " 0.2552667  0.27588525 0.2660242  0.24831914 0.25459435 0.25728373\n",
      " 0.25773196 0.2371134  0.23823398 0.24572021]\n",
      "1 day output [[0.24266393]]\n",
      "2 day input [0.17279247 0.17951591 0.17637831 0.17234424 0.16898252 0.16831017\n",
      " 0.16248319 0.16987898 0.17525773 0.18556701 0.18915285 0.18354998\n",
      " 0.1824294  0.17256835 0.18108472 0.18153294 0.17055132 0.17189601\n",
      " 0.16943075 0.17705065 0.16270731 0.17346481 0.18646347 0.20416853\n",
      " 0.21156432 0.20259973 0.20461676 0.19520394 0.20797848 0.22142537\n",
      " 0.22142537 0.22523532 0.23890632 0.2447333  0.24406096 0.24137158\n",
      " 0.24271627 0.24069924 0.23442403 0.25930076 0.25907665 0.25616316\n",
      " 0.24831914 0.26176602 0.2447333  0.23330345 0.22613178 0.20103093\n",
      " 0.20416853 0.18870462 0.18287763 0.19049753 0.19766921 0.19878978\n",
      " 0.20080681 0.19744509 0.19520394 0.19722098 0.19229045 0.19789332\n",
      " 0.20909906 0.20730614 0.20170327 0.19004931 0.19206634 0.17817122\n",
      " 0.17548185 0.18377409 0.19139399 0.18780816 0.20192739 0.18511878\n",
      " 0.18668758 0.23263111 0.2415957  0.25750784 0.25862842 0.27297176\n",
      " 0.29112506 0.29964142 0.29157329 0.27498879 0.27947109 0.26781712\n",
      " 0.27162707 0.27431645 0.28148812 0.25145675 0.26535186 0.2552667\n",
      " 0.27588525 0.2660242  0.24831914 0.25459435 0.25728373 0.25773196\n",
      " 0.2371134  0.23823398 0.24572021 0.24266393]\n",
      "2 day output [[0.24177419]]\n",
      "3 day input [0.17951591 0.17637831 0.17234424 0.16898252 0.16831017 0.16248319\n",
      " 0.16987898 0.17525773 0.18556701 0.18915285 0.18354998 0.1824294\n",
      " 0.17256835 0.18108472 0.18153294 0.17055132 0.17189601 0.16943075\n",
      " 0.17705065 0.16270731 0.17346481 0.18646347 0.20416853 0.21156432\n",
      " 0.20259973 0.20461676 0.19520394 0.20797848 0.22142537 0.22142537\n",
      " 0.22523532 0.23890632 0.2447333  0.24406096 0.24137158 0.24271627\n",
      " 0.24069924 0.23442403 0.25930076 0.25907665 0.25616316 0.24831914\n",
      " 0.26176602 0.2447333  0.23330345 0.22613178 0.20103093 0.20416853\n",
      " 0.18870462 0.18287763 0.19049753 0.19766921 0.19878978 0.20080681\n",
      " 0.19744509 0.19520394 0.19722098 0.19229045 0.19789332 0.20909906\n",
      " 0.20730614 0.20170327 0.19004931 0.19206634 0.17817122 0.17548185\n",
      " 0.18377409 0.19139399 0.18780816 0.20192739 0.18511878 0.18668758\n",
      " 0.23263111 0.2415957  0.25750784 0.25862842 0.27297176 0.29112506\n",
      " 0.29964142 0.29157329 0.27498879 0.27947109 0.26781712 0.27162707\n",
      " 0.27431645 0.28148812 0.25145675 0.26535186 0.2552667  0.27588525\n",
      " 0.2660242  0.24831914 0.25459435 0.25728373 0.25773196 0.2371134\n",
      " 0.23823398 0.24572021 0.24266393 0.24177419]\n",
      "3 day output [[0.2419997]]\n",
      "4 day input [0.17637831 0.17234424 0.16898252 0.16831017 0.16248319 0.16987898\n",
      " 0.17525773 0.18556701 0.18915285 0.18354998 0.1824294  0.17256835\n",
      " 0.18108472 0.18153294 0.17055132 0.17189601 0.16943075 0.17705065\n",
      " 0.16270731 0.17346481 0.18646347 0.20416853 0.21156432 0.20259973\n",
      " 0.20461676 0.19520394 0.20797848 0.22142537 0.22142537 0.22523532\n",
      " 0.23890632 0.2447333  0.24406096 0.24137158 0.24271627 0.24069924\n",
      " 0.23442403 0.25930076 0.25907665 0.25616316 0.24831914 0.26176602\n",
      " 0.2447333  0.23330345 0.22613178 0.20103093 0.20416853 0.18870462\n",
      " 0.18287763 0.19049753 0.19766921 0.19878978 0.20080681 0.19744509\n",
      " 0.19520394 0.19722098 0.19229045 0.19789332 0.20909906 0.20730614\n",
      " 0.20170327 0.19004931 0.19206634 0.17817122 0.17548185 0.18377409\n",
      " 0.19139399 0.18780816 0.20192739 0.18511878 0.18668758 0.23263111\n",
      " 0.2415957  0.25750784 0.25862842 0.27297176 0.29112506 0.29964142\n",
      " 0.29157329 0.27498879 0.27947109 0.26781712 0.27162707 0.27431645\n",
      " 0.28148812 0.25145675 0.26535186 0.2552667  0.27588525 0.2660242\n",
      " 0.24831914 0.25459435 0.25728373 0.25773196 0.2371134  0.23823398\n",
      " 0.24572021 0.24266393 0.24177419 0.2419997 ]\n",
      "4 day output [[0.24267516]]\n",
      "5 day input [0.17234424 0.16898252 0.16831017 0.16248319 0.16987898 0.17525773\n",
      " 0.18556701 0.18915285 0.18354998 0.1824294  0.17256835 0.18108472\n",
      " 0.18153294 0.17055132 0.17189601 0.16943075 0.17705065 0.16270731\n",
      " 0.17346481 0.18646347 0.20416853 0.21156432 0.20259973 0.20461676\n",
      " 0.19520394 0.20797848 0.22142537 0.22142537 0.22523532 0.23890632\n",
      " 0.2447333  0.24406096 0.24137158 0.24271627 0.24069924 0.23442403\n",
      " 0.25930076 0.25907665 0.25616316 0.24831914 0.26176602 0.2447333\n",
      " 0.23330345 0.22613178 0.20103093 0.20416853 0.18870462 0.18287763\n",
      " 0.19049753 0.19766921 0.19878978 0.20080681 0.19744509 0.19520394\n",
      " 0.19722098 0.19229045 0.19789332 0.20909906 0.20730614 0.20170327\n",
      " 0.19004931 0.19206634 0.17817122 0.17548185 0.18377409 0.19139399\n",
      " 0.18780816 0.20192739 0.18511878 0.18668758 0.23263111 0.2415957\n",
      " 0.25750784 0.25862842 0.27297176 0.29112506 0.29964142 0.29157329\n",
      " 0.27498879 0.27947109 0.26781712 0.27162707 0.27431645 0.28148812\n",
      " 0.25145675 0.26535186 0.2552667  0.27588525 0.2660242  0.24831914\n",
      " 0.25459435 0.25728373 0.25773196 0.2371134  0.23823398 0.24572021\n",
      " 0.24266393 0.24177419 0.2419997  0.24267516]\n",
      "5 day output [[0.24349998]]\n",
      "6 day input [0.16898252 0.16831017 0.16248319 0.16987898 0.17525773 0.18556701\n",
      " 0.18915285 0.18354998 0.1824294  0.17256835 0.18108472 0.18153294\n",
      " 0.17055132 0.17189601 0.16943075 0.17705065 0.16270731 0.17346481\n",
      " 0.18646347 0.20416853 0.21156432 0.20259973 0.20461676 0.19520394\n",
      " 0.20797848 0.22142537 0.22142537 0.22523532 0.23890632 0.2447333\n",
      " 0.24406096 0.24137158 0.24271627 0.24069924 0.23442403 0.25930076\n",
      " 0.25907665 0.25616316 0.24831914 0.26176602 0.2447333  0.23330345\n",
      " 0.22613178 0.20103093 0.20416853 0.18870462 0.18287763 0.19049753\n",
      " 0.19766921 0.19878978 0.20080681 0.19744509 0.19520394 0.19722098\n",
      " 0.19229045 0.19789332 0.20909906 0.20730614 0.20170327 0.19004931\n",
      " 0.19206634 0.17817122 0.17548185 0.18377409 0.19139399 0.18780816\n",
      " 0.20192739 0.18511878 0.18668758 0.23263111 0.2415957  0.25750784\n",
      " 0.25862842 0.27297176 0.29112506 0.29964142 0.29157329 0.27498879\n",
      " 0.27947109 0.26781712 0.27162707 0.27431645 0.28148812 0.25145675\n",
      " 0.26535186 0.2552667  0.27588525 0.2660242  0.24831914 0.25459435\n",
      " 0.25728373 0.25773196 0.2371134  0.23823398 0.24572021 0.24266393\n",
      " 0.24177419 0.2419997  0.24267516 0.24349998]\n",
      "6 day output [[0.24435367]]\n",
      "7 day input [0.16831017 0.16248319 0.16987898 0.17525773 0.18556701 0.18915285\n",
      " 0.18354998 0.1824294  0.17256835 0.18108472 0.18153294 0.17055132\n",
      " 0.17189601 0.16943075 0.17705065 0.16270731 0.17346481 0.18646347\n",
      " 0.20416853 0.21156432 0.20259973 0.20461676 0.19520394 0.20797848\n",
      " 0.22142537 0.22142537 0.22523532 0.23890632 0.2447333  0.24406096\n",
      " 0.24137158 0.24271627 0.24069924 0.23442403 0.25930076 0.25907665\n",
      " 0.25616316 0.24831914 0.26176602 0.2447333  0.23330345 0.22613178\n",
      " 0.20103093 0.20416853 0.18870462 0.18287763 0.19049753 0.19766921\n",
      " 0.19878978 0.20080681 0.19744509 0.19520394 0.19722098 0.19229045\n",
      " 0.19789332 0.20909906 0.20730614 0.20170327 0.19004931 0.19206634\n",
      " 0.17817122 0.17548185 0.18377409 0.19139399 0.18780816 0.20192739\n",
      " 0.18511878 0.18668758 0.23263111 0.2415957  0.25750784 0.25862842\n",
      " 0.27297176 0.29112506 0.29964142 0.29157329 0.27498879 0.27947109\n",
      " 0.26781712 0.27162707 0.27431645 0.28148812 0.25145675 0.26535186\n",
      " 0.2552667  0.27588525 0.2660242  0.24831914 0.25459435 0.25728373\n",
      " 0.25773196 0.2371134  0.23823398 0.24572021 0.24266393 0.24177419\n",
      " 0.2419997  0.24267516 0.24349998 0.24435367]\n",
      "7 day output [[0.24517669]]\n",
      "8 day input [0.16248319 0.16987898 0.17525773 0.18556701 0.18915285 0.18354998\n",
      " 0.1824294  0.17256835 0.18108472 0.18153294 0.17055132 0.17189601\n",
      " 0.16943075 0.17705065 0.16270731 0.17346481 0.18646347 0.20416853\n",
      " 0.21156432 0.20259973 0.20461676 0.19520394 0.20797848 0.22142537\n",
      " 0.22142537 0.22523532 0.23890632 0.2447333  0.24406096 0.24137158\n",
      " 0.24271627 0.24069924 0.23442403 0.25930076 0.25907665 0.25616316\n",
      " 0.24831914 0.26176602 0.2447333  0.23330345 0.22613178 0.20103093\n",
      " 0.20416853 0.18870462 0.18287763 0.19049753 0.19766921 0.19878978\n",
      " 0.20080681 0.19744509 0.19520394 0.19722098 0.19229045 0.19789332\n",
      " 0.20909906 0.20730614 0.20170327 0.19004931 0.19206634 0.17817122\n",
      " 0.17548185 0.18377409 0.19139399 0.18780816 0.20192739 0.18511878\n",
      " 0.18668758 0.23263111 0.2415957  0.25750784 0.25862842 0.27297176\n",
      " 0.29112506 0.29964142 0.29157329 0.27498879 0.27947109 0.26781712\n",
      " 0.27162707 0.27431645 0.28148812 0.25145675 0.26535186 0.2552667\n",
      " 0.27588525 0.2660242  0.24831914 0.25459435 0.25728373 0.25773196\n",
      " 0.2371134  0.23823398 0.24572021 0.24266393 0.24177419 0.2419997\n",
      " 0.24267516 0.24349998 0.24435367 0.24517669]\n",
      "8 day output [[0.24592593]]\n",
      "9 day input [0.16987898 0.17525773 0.18556701 0.18915285 0.18354998 0.1824294\n",
      " 0.17256835 0.18108472 0.18153294 0.17055132 0.17189601 0.16943075\n",
      " 0.17705065 0.16270731 0.17346481 0.18646347 0.20416853 0.21156432\n",
      " 0.20259973 0.20461676 0.19520394 0.20797848 0.22142537 0.22142537\n",
      " 0.22523532 0.23890632 0.2447333  0.24406096 0.24137158 0.24271627\n",
      " 0.24069924 0.23442403 0.25930076 0.25907665 0.25616316 0.24831914\n",
      " 0.26176602 0.2447333  0.23330345 0.22613178 0.20103093 0.20416853\n",
      " 0.18870462 0.18287763 0.19049753 0.19766921 0.19878978 0.20080681\n",
      " 0.19744509 0.19520394 0.19722098 0.19229045 0.19789332 0.20909906\n",
      " 0.20730614 0.20170327 0.19004931 0.19206634 0.17817122 0.17548185\n",
      " 0.18377409 0.19139399 0.18780816 0.20192739 0.18511878 0.18668758\n",
      " 0.23263111 0.2415957  0.25750784 0.25862842 0.27297176 0.29112506\n",
      " 0.29964142 0.29157329 0.27498879 0.27947109 0.26781712 0.27162707\n",
      " 0.27431645 0.28148812 0.25145675 0.26535186 0.2552667  0.27588525\n",
      " 0.2660242  0.24831914 0.25459435 0.25728373 0.25773196 0.2371134\n",
      " 0.23823398 0.24572021 0.24266393 0.24177419 0.2419997  0.24267516\n",
      " 0.24349998 0.24435367 0.24517669 0.24592593]\n",
      "9 day output [[0.2465662]]\n",
      "10 day input [0.17525773 0.18556701 0.18915285 0.18354998 0.1824294  0.17256835\n",
      " 0.18108472 0.18153294 0.17055132 0.17189601 0.16943075 0.17705065\n",
      " 0.16270731 0.17346481 0.18646347 0.20416853 0.21156432 0.20259973\n",
      " 0.20461676 0.19520394 0.20797848 0.22142537 0.22142537 0.22523532\n",
      " 0.23890632 0.2447333  0.24406096 0.24137158 0.24271627 0.24069924\n",
      " 0.23442403 0.25930076 0.25907665 0.25616316 0.24831914 0.26176602\n",
      " 0.2447333  0.23330345 0.22613178 0.20103093 0.20416853 0.18870462\n",
      " 0.18287763 0.19049753 0.19766921 0.19878978 0.20080681 0.19744509\n",
      " 0.19520394 0.19722098 0.19229045 0.19789332 0.20909906 0.20730614\n",
      " 0.20170327 0.19004931 0.19206634 0.17817122 0.17548185 0.18377409\n",
      " 0.19139399 0.18780816 0.20192739 0.18511878 0.18668758 0.23263111\n",
      " 0.2415957  0.25750784 0.25862842 0.27297176 0.29112506 0.29964142\n",
      " 0.29157329 0.27498879 0.27947109 0.26781712 0.27162707 0.27431645\n",
      " 0.28148812 0.25145675 0.26535186 0.2552667  0.27588525 0.2660242\n",
      " 0.24831914 0.25459435 0.25728373 0.25773196 0.2371134  0.23823398\n",
      " 0.24572021 0.24266393 0.24177419 0.2419997  0.24267516 0.24349998\n",
      " 0.24435367 0.24517669 0.24592593 0.24656621]\n",
      "10 day output [[0.24707292]]\n",
      "11 day input [0.18556701 0.18915285 0.18354998 0.1824294  0.17256835 0.18108472\n",
      " 0.18153294 0.17055132 0.17189601 0.16943075 0.17705065 0.16270731\n",
      " 0.17346481 0.18646347 0.20416853 0.21156432 0.20259973 0.20461676\n",
      " 0.19520394 0.20797848 0.22142537 0.22142537 0.22523532 0.23890632\n",
      " 0.2447333  0.24406096 0.24137158 0.24271627 0.24069924 0.23442403\n",
      " 0.25930076 0.25907665 0.25616316 0.24831914 0.26176602 0.2447333\n",
      " 0.23330345 0.22613178 0.20103093 0.20416853 0.18870462 0.18287763\n",
      " 0.19049753 0.19766921 0.19878978 0.20080681 0.19744509 0.19520394\n",
      " 0.19722098 0.19229045 0.19789332 0.20909906 0.20730614 0.20170327\n",
      " 0.19004931 0.19206634 0.17817122 0.17548185 0.18377409 0.19139399\n",
      " 0.18780816 0.20192739 0.18511878 0.18668758 0.23263111 0.2415957\n",
      " 0.25750784 0.25862842 0.27297176 0.29112506 0.29964142 0.29157329\n",
      " 0.27498879 0.27947109 0.26781712 0.27162707 0.27431645 0.28148812\n",
      " 0.25145675 0.26535186 0.2552667  0.27588525 0.2660242  0.24831914\n",
      " 0.25459435 0.25728373 0.25773196 0.2371134  0.23823398 0.24572021\n",
      " 0.24266393 0.24177419 0.2419997  0.24267516 0.24349998 0.24435367\n",
      " 0.24517669 0.24592593 0.24656621 0.24707292]\n",
      "11 day output [[0.24743383]]\n",
      "12 day input [0.18915285 0.18354998 0.1824294  0.17256835 0.18108472 0.18153294\n",
      " 0.17055132 0.17189601 0.16943075 0.17705065 0.16270731 0.17346481\n",
      " 0.18646347 0.20416853 0.21156432 0.20259973 0.20461676 0.19520394\n",
      " 0.20797848 0.22142537 0.22142537 0.22523532 0.23890632 0.2447333\n",
      " 0.24406096 0.24137158 0.24271627 0.24069924 0.23442403 0.25930076\n",
      " 0.25907665 0.25616316 0.24831914 0.26176602 0.2447333  0.23330345\n",
      " 0.22613178 0.20103093 0.20416853 0.18870462 0.18287763 0.19049753\n",
      " 0.19766921 0.19878978 0.20080681 0.19744509 0.19520394 0.19722098\n",
      " 0.19229045 0.19789332 0.20909906 0.20730614 0.20170327 0.19004931\n",
      " 0.19206634 0.17817122 0.17548185 0.18377409 0.19139399 0.18780816\n",
      " 0.20192739 0.18511878 0.18668758 0.23263111 0.2415957  0.25750784\n",
      " 0.25862842 0.27297176 0.29112506 0.29964142 0.29157329 0.27498879\n",
      " 0.27947109 0.26781712 0.27162707 0.27431645 0.28148812 0.25145675\n",
      " 0.26535186 0.2552667  0.27588525 0.2660242  0.24831914 0.25459435\n",
      " 0.25728373 0.25773196 0.2371134  0.23823398 0.24572021 0.24266393\n",
      " 0.24177419 0.2419997  0.24267516 0.24349998 0.24435367 0.24517669\n",
      " 0.24592593 0.24656621 0.24707292 0.24743383]\n",
      "12 day output [[0.24764864]]\n",
      "13 day input [0.18354998 0.1824294  0.17256835 0.18108472 0.18153294 0.17055132\n",
      " 0.17189601 0.16943075 0.17705065 0.16270731 0.17346481 0.18646347\n",
      " 0.20416853 0.21156432 0.20259973 0.20461676 0.19520394 0.20797848\n",
      " 0.22142537 0.22142537 0.22523532 0.23890632 0.2447333  0.24406096\n",
      " 0.24137158 0.24271627 0.24069924 0.23442403 0.25930076 0.25907665\n",
      " 0.25616316 0.24831914 0.26176602 0.2447333  0.23330345 0.22613178\n",
      " 0.20103093 0.20416853 0.18870462 0.18287763 0.19049753 0.19766921\n",
      " 0.19878978 0.20080681 0.19744509 0.19520394 0.19722098 0.19229045\n",
      " 0.19789332 0.20909906 0.20730614 0.20170327 0.19004931 0.19206634\n",
      " 0.17817122 0.17548185 0.18377409 0.19139399 0.18780816 0.20192739\n",
      " 0.18511878 0.18668758 0.23263111 0.2415957  0.25750784 0.25862842\n",
      " 0.27297176 0.29112506 0.29964142 0.29157329 0.27498879 0.27947109\n",
      " 0.26781712 0.27162707 0.27431645 0.28148812 0.25145675 0.26535186\n",
      " 0.2552667  0.27588525 0.2660242  0.24831914 0.25459435 0.25728373\n",
      " 0.25773196 0.2371134  0.23823398 0.24572021 0.24266393 0.24177419\n",
      " 0.2419997  0.24267516 0.24349998 0.24435367 0.24517669 0.24592593\n",
      " 0.24656621 0.24707292 0.24743383 0.24764864]\n",
      "13 day output [[0.24772681]]\n",
      "14 day input [0.1824294  0.17256835 0.18108472 0.18153294 0.17055132 0.17189601\n",
      " 0.16943075 0.17705065 0.16270731 0.17346481 0.18646347 0.20416853\n",
      " 0.21156432 0.20259973 0.20461676 0.19520394 0.20797848 0.22142537\n",
      " 0.22142537 0.22523532 0.23890632 0.2447333  0.24406096 0.24137158\n",
      " 0.24271627 0.24069924 0.23442403 0.25930076 0.25907665 0.25616316\n",
      " 0.24831914 0.26176602 0.2447333  0.23330345 0.22613178 0.20103093\n",
      " 0.20416853 0.18870462 0.18287763 0.19049753 0.19766921 0.19878978\n",
      " 0.20080681 0.19744509 0.19520394 0.19722098 0.19229045 0.19789332\n",
      " 0.20909906 0.20730614 0.20170327 0.19004931 0.19206634 0.17817122\n",
      " 0.17548185 0.18377409 0.19139399 0.18780816 0.20192739 0.18511878\n",
      " 0.18668758 0.23263111 0.2415957  0.25750784 0.25862842 0.27297176\n",
      " 0.29112506 0.29964142 0.29157329 0.27498879 0.27947109 0.26781712\n",
      " 0.27162707 0.27431645 0.28148812 0.25145675 0.26535186 0.2552667\n",
      " 0.27588525 0.2660242  0.24831914 0.25459435 0.25728373 0.25773196\n",
      " 0.2371134  0.23823398 0.24572021 0.24266393 0.24177419 0.2419997\n",
      " 0.24267516 0.24349998 0.24435367 0.24517669 0.24592593 0.24656621\n",
      " 0.24707292 0.24743383 0.24764864 0.24772681]\n",
      "14 day output [[0.247685]]\n",
      "15 day input [0.17256835 0.18108472 0.18153294 0.17055132 0.17189601 0.16943075\n",
      " 0.17705065 0.16270731 0.17346481 0.18646347 0.20416853 0.21156432\n",
      " 0.20259973 0.20461676 0.19520394 0.20797848 0.22142537 0.22142537\n",
      " 0.22523532 0.23890632 0.2447333  0.24406096 0.24137158 0.24271627\n",
      " 0.24069924 0.23442403 0.25930076 0.25907665 0.25616316 0.24831914\n",
      " 0.26176602 0.2447333  0.23330345 0.22613178 0.20103093 0.20416853\n",
      " 0.18870462 0.18287763 0.19049753 0.19766921 0.19878978 0.20080681\n",
      " 0.19744509 0.19520394 0.19722098 0.19229045 0.19789332 0.20909906\n",
      " 0.20730614 0.20170327 0.19004931 0.19206634 0.17817122 0.17548185\n",
      " 0.18377409 0.19139399 0.18780816 0.20192739 0.18511878 0.18668758\n",
      " 0.23263111 0.2415957  0.25750784 0.25862842 0.27297176 0.29112506\n",
      " 0.29964142 0.29157329 0.27498879 0.27947109 0.26781712 0.27162707\n",
      " 0.27431645 0.28148812 0.25145675 0.26535186 0.2552667  0.27588525\n",
      " 0.2660242  0.24831914 0.25459435 0.25728373 0.25773196 0.2371134\n",
      " 0.23823398 0.24572021 0.24266393 0.24177419 0.2419997  0.24267516\n",
      " 0.24349998 0.24435367 0.24517669 0.24592593 0.24656621 0.24707292\n",
      " 0.24743383 0.24764864 0.24772681 0.247685  ]\n",
      "15 day output [[0.24754432]]\n",
      "16 day input [0.18108472 0.18153294 0.17055132 0.17189601 0.16943075 0.17705065\n",
      " 0.16270731 0.17346481 0.18646347 0.20416853 0.21156432 0.20259973\n",
      " 0.20461676 0.19520394 0.20797848 0.22142537 0.22142537 0.22523532\n",
      " 0.23890632 0.2447333  0.24406096 0.24137158 0.24271627 0.24069924\n",
      " 0.23442403 0.25930076 0.25907665 0.25616316 0.24831914 0.26176602\n",
      " 0.2447333  0.23330345 0.22613178 0.20103093 0.20416853 0.18870462\n",
      " 0.18287763 0.19049753 0.19766921 0.19878978 0.20080681 0.19744509\n",
      " 0.19520394 0.19722098 0.19229045 0.19789332 0.20909906 0.20730614\n",
      " 0.20170327 0.19004931 0.19206634 0.17817122 0.17548185 0.18377409\n",
      " 0.19139399 0.18780816 0.20192739 0.18511878 0.18668758 0.23263111\n",
      " 0.2415957  0.25750784 0.25862842 0.27297176 0.29112506 0.29964142\n",
      " 0.29157329 0.27498879 0.27947109 0.26781712 0.27162707 0.27431645\n",
      " 0.28148812 0.25145675 0.26535186 0.2552667  0.27588525 0.2660242\n",
      " 0.24831914 0.25459435 0.25728373 0.25773196 0.2371134  0.23823398\n",
      " 0.24572021 0.24266393 0.24177419 0.2419997  0.24267516 0.24349998\n",
      " 0.24435367 0.24517669 0.24592593 0.24656621 0.24707292 0.24743383\n",
      " 0.24764864 0.24772681 0.247685   0.24754432]\n",
      "16 day output [[0.24732782]]\n",
      "17 day input [0.18153294 0.17055132 0.17189601 0.16943075 0.17705065 0.16270731\n",
      " 0.17346481 0.18646347 0.20416853 0.21156432 0.20259973 0.20461676\n",
      " 0.19520394 0.20797848 0.22142537 0.22142537 0.22523532 0.23890632\n",
      " 0.2447333  0.24406096 0.24137158 0.24271627 0.24069924 0.23442403\n",
      " 0.25930076 0.25907665 0.25616316 0.24831914 0.26176602 0.2447333\n",
      " 0.23330345 0.22613178 0.20103093 0.20416853 0.18870462 0.18287763\n",
      " 0.19049753 0.19766921 0.19878978 0.20080681 0.19744509 0.19520394\n",
      " 0.19722098 0.19229045 0.19789332 0.20909906 0.20730614 0.20170327\n",
      " 0.19004931 0.19206634 0.17817122 0.17548185 0.18377409 0.19139399\n",
      " 0.18780816 0.20192739 0.18511878 0.18668758 0.23263111 0.2415957\n",
      " 0.25750784 0.25862842 0.27297176 0.29112506 0.29964142 0.29157329\n",
      " 0.27498879 0.27947109 0.26781712 0.27162707 0.27431645 0.28148812\n",
      " 0.25145675 0.26535186 0.2552667  0.27588525 0.2660242  0.24831914\n",
      " 0.25459435 0.25728373 0.25773196 0.2371134  0.23823398 0.24572021\n",
      " 0.24266393 0.24177419 0.2419997  0.24267516 0.24349998 0.24435367\n",
      " 0.24517669 0.24592593 0.24656621 0.24707292 0.24743383 0.24764864\n",
      " 0.24772681 0.247685   0.24754432 0.24732782]\n",
      "17 day output [[0.24705869]]\n",
      "18 day input [0.17055132 0.17189601 0.16943075 0.17705065 0.16270731 0.17346481\n",
      " 0.18646347 0.20416853 0.21156432 0.20259973 0.20461676 0.19520394\n",
      " 0.20797848 0.22142537 0.22142537 0.22523532 0.23890632 0.2447333\n",
      " 0.24406096 0.24137158 0.24271627 0.24069924 0.23442403 0.25930076\n",
      " 0.25907665 0.25616316 0.24831914 0.26176602 0.2447333  0.23330345\n",
      " 0.22613178 0.20103093 0.20416853 0.18870462 0.18287763 0.19049753\n",
      " 0.19766921 0.19878978 0.20080681 0.19744509 0.19520394 0.19722098\n",
      " 0.19229045 0.19789332 0.20909906 0.20730614 0.20170327 0.19004931\n",
      " 0.19206634 0.17817122 0.17548185 0.18377409 0.19139399 0.18780816\n",
      " 0.20192739 0.18511878 0.18668758 0.23263111 0.2415957  0.25750784\n",
      " 0.25862842 0.27297176 0.29112506 0.29964142 0.29157329 0.27498879\n",
      " 0.27947109 0.26781712 0.27162707 0.27431645 0.28148812 0.25145675\n",
      " 0.26535186 0.2552667  0.27588525 0.2660242  0.24831914 0.25459435\n",
      " 0.25728373 0.25773196 0.2371134  0.23823398 0.24572021 0.24266393\n",
      " 0.24177419 0.2419997  0.24267516 0.24349998 0.24435367 0.24517669\n",
      " 0.24592593 0.24656621 0.24707292 0.24743383 0.24764864 0.24772681\n",
      " 0.247685   0.24754432 0.24732782 0.24705869]\n",
      "18 day output [[0.24675855]]\n",
      "19 day input [0.17189601 0.16943075 0.17705065 0.16270731 0.17346481 0.18646347\n",
      " 0.20416853 0.21156432 0.20259973 0.20461676 0.19520394 0.20797848\n",
      " 0.22142537 0.22142537 0.22523532 0.23890632 0.2447333  0.24406096\n",
      " 0.24137158 0.24271627 0.24069924 0.23442403 0.25930076 0.25907665\n",
      " 0.25616316 0.24831914 0.26176602 0.2447333  0.23330345 0.22613178\n",
      " 0.20103093 0.20416853 0.18870462 0.18287763 0.19049753 0.19766921\n",
      " 0.19878978 0.20080681 0.19744509 0.19520394 0.19722098 0.19229045\n",
      " 0.19789332 0.20909906 0.20730614 0.20170327 0.19004931 0.19206634\n",
      " 0.17817122 0.17548185 0.18377409 0.19139399 0.18780816 0.20192739\n",
      " 0.18511878 0.18668758 0.23263111 0.2415957  0.25750784 0.25862842\n",
      " 0.27297176 0.29112506 0.29964142 0.29157329 0.27498879 0.27947109\n",
      " 0.26781712 0.27162707 0.27431645 0.28148812 0.25145675 0.26535186\n",
      " 0.2552667  0.27588525 0.2660242  0.24831914 0.25459435 0.25728373\n",
      " 0.25773196 0.2371134  0.23823398 0.24572021 0.24266393 0.24177419\n",
      " 0.2419997  0.24267516 0.24349998 0.24435367 0.24517669 0.24592593\n",
      " 0.24656621 0.24707292 0.24743383 0.24764864 0.24772681 0.247685\n",
      " 0.24754432 0.24732782 0.24705869 0.24675855]\n",
      "19 day output [[0.24644627]]\n",
      "20 day input [0.16943075 0.17705065 0.16270731 0.17346481 0.18646347 0.20416853\n",
      " 0.21156432 0.20259973 0.20461676 0.19520394 0.20797848 0.22142537\n",
      " 0.22142537 0.22523532 0.23890632 0.2447333  0.24406096 0.24137158\n",
      " 0.24271627 0.24069924 0.23442403 0.25930076 0.25907665 0.25616316\n",
      " 0.24831914 0.26176602 0.2447333  0.23330345 0.22613178 0.20103093\n",
      " 0.20416853 0.18870462 0.18287763 0.19049753 0.19766921 0.19878978\n",
      " 0.20080681 0.19744509 0.19520394 0.19722098 0.19229045 0.19789332\n",
      " 0.20909906 0.20730614 0.20170327 0.19004931 0.19206634 0.17817122\n",
      " 0.17548185 0.18377409 0.19139399 0.18780816 0.20192739 0.18511878\n",
      " 0.18668758 0.23263111 0.2415957  0.25750784 0.25862842 0.27297176\n",
      " 0.29112506 0.29964142 0.29157329 0.27498879 0.27947109 0.26781712\n",
      " 0.27162707 0.27431645 0.28148812 0.25145675 0.26535186 0.2552667\n",
      " 0.27588525 0.2660242  0.24831914 0.25459435 0.25728373 0.25773196\n",
      " 0.2371134  0.23823398 0.24572021 0.24266393 0.24177419 0.2419997\n",
      " 0.24267516 0.24349998 0.24435367 0.24517669 0.24592593 0.24656621\n",
      " 0.24707292 0.24743383 0.24764864 0.24772681 0.247685   0.24754432\n",
      " 0.24732782 0.24705869 0.24675855 0.24644627]\n",
      "20 day output [[0.24613753]]\n",
      "21 day input [0.17705065 0.16270731 0.17346481 0.18646347 0.20416853 0.21156432\n",
      " 0.20259973 0.20461676 0.19520394 0.20797848 0.22142537 0.22142537\n",
      " 0.22523532 0.23890632 0.2447333  0.24406096 0.24137158 0.24271627\n",
      " 0.24069924 0.23442403 0.25930076 0.25907665 0.25616316 0.24831914\n",
      " 0.26176602 0.2447333  0.23330345 0.22613178 0.20103093 0.20416853\n",
      " 0.18870462 0.18287763 0.19049753 0.19766921 0.19878978 0.20080681\n",
      " 0.19744509 0.19520394 0.19722098 0.19229045 0.19789332 0.20909906\n",
      " 0.20730614 0.20170327 0.19004931 0.19206634 0.17817122 0.17548185\n",
      " 0.18377409 0.19139399 0.18780816 0.20192739 0.18511878 0.18668758\n",
      " 0.23263111 0.2415957  0.25750784 0.25862842 0.27297176 0.29112506\n",
      " 0.29964142 0.29157329 0.27498879 0.27947109 0.26781712 0.27162707\n",
      " 0.27431645 0.28148812 0.25145675 0.26535186 0.2552667  0.27588525\n",
      " 0.2660242  0.24831914 0.25459435 0.25728373 0.25773196 0.2371134\n",
      " 0.23823398 0.24572021 0.24266393 0.24177419 0.2419997  0.24267516\n",
      " 0.24349998 0.24435367 0.24517669 0.24592593 0.24656621 0.24707292\n",
      " 0.24743383 0.24764864 0.24772681 0.247685   0.24754432 0.24732782\n",
      " 0.24705869 0.24675855 0.24644627 0.24613753]\n",
      "21 day output [[0.24584432]]\n",
      "22 day input [0.16270731 0.17346481 0.18646347 0.20416853 0.21156432 0.20259973\n",
      " 0.20461676 0.19520394 0.20797848 0.22142537 0.22142537 0.22523532\n",
      " 0.23890632 0.2447333  0.24406096 0.24137158 0.24271627 0.24069924\n",
      " 0.23442403 0.25930076 0.25907665 0.25616316 0.24831914 0.26176602\n",
      " 0.2447333  0.23330345 0.22613178 0.20103093 0.20416853 0.18870462\n",
      " 0.18287763 0.19049753 0.19766921 0.19878978 0.20080681 0.19744509\n",
      " 0.19520394 0.19722098 0.19229045 0.19789332 0.20909906 0.20730614\n",
      " 0.20170327 0.19004931 0.19206634 0.17817122 0.17548185 0.18377409\n",
      " 0.19139399 0.18780816 0.20192739 0.18511878 0.18668758 0.23263111\n",
      " 0.2415957  0.25750784 0.25862842 0.27297176 0.29112506 0.29964142\n",
      " 0.29157329 0.27498879 0.27947109 0.26781712 0.27162707 0.27431645\n",
      " 0.28148812 0.25145675 0.26535186 0.2552667  0.27588525 0.2660242\n",
      " 0.24831914 0.25459435 0.25728373 0.25773196 0.2371134  0.23823398\n",
      " 0.24572021 0.24266393 0.24177419 0.2419997  0.24267516 0.24349998\n",
      " 0.24435367 0.24517669 0.24592593 0.24656621 0.24707292 0.24743383\n",
      " 0.24764864 0.24772681 0.247685   0.24754432 0.24732782 0.24705869\n",
      " 0.24675855 0.24644627 0.24613753 0.24584432]\n",
      "22 day output [[0.2455749]]\n",
      "23 day input [0.17346481 0.18646347 0.20416853 0.21156432 0.20259973 0.20461676\n",
      " 0.19520394 0.20797848 0.22142537 0.22142537 0.22523532 0.23890632\n",
      " 0.2447333  0.24406096 0.24137158 0.24271627 0.24069924 0.23442403\n",
      " 0.25930076 0.25907665 0.25616316 0.24831914 0.26176602 0.2447333\n",
      " 0.23330345 0.22613178 0.20103093 0.20416853 0.18870462 0.18287763\n",
      " 0.19049753 0.19766921 0.19878978 0.20080681 0.19744509 0.19520394\n",
      " 0.19722098 0.19229045 0.19789332 0.20909906 0.20730614 0.20170327\n",
      " 0.19004931 0.19206634 0.17817122 0.17548185 0.18377409 0.19139399\n",
      " 0.18780816 0.20192739 0.18511878 0.18668758 0.23263111 0.2415957\n",
      " 0.25750784 0.25862842 0.27297176 0.29112506 0.29964142 0.29157329\n",
      " 0.27498879 0.27947109 0.26781712 0.27162707 0.27431645 0.28148812\n",
      " 0.25145675 0.26535186 0.2552667  0.27588525 0.2660242  0.24831914\n",
      " 0.25459435 0.25728373 0.25773196 0.2371134  0.23823398 0.24572021\n",
      " 0.24266393 0.24177419 0.2419997  0.24267516 0.24349998 0.24435367\n",
      " 0.24517669 0.24592593 0.24656621 0.24707292 0.24743383 0.24764864\n",
      " 0.24772681 0.247685   0.24754432 0.24732782 0.24705869 0.24675855\n",
      " 0.24644627 0.24613753 0.24584432 0.24557491]\n",
      "23 day output [[0.2453343]]\n",
      "24 day input [0.18646347 0.20416853 0.21156432 0.20259973 0.20461676 0.19520394\n",
      " 0.20797848 0.22142537 0.22142537 0.22523532 0.23890632 0.2447333\n",
      " 0.24406096 0.24137158 0.24271627 0.24069924 0.23442403 0.25930076\n",
      " 0.25907665 0.25616316 0.24831914 0.26176602 0.2447333  0.23330345\n",
      " 0.22613178 0.20103093 0.20416853 0.18870462 0.18287763 0.19049753\n",
      " 0.19766921 0.19878978 0.20080681 0.19744509 0.19520394 0.19722098\n",
      " 0.19229045 0.19789332 0.20909906 0.20730614 0.20170327 0.19004931\n",
      " 0.19206634 0.17817122 0.17548185 0.18377409 0.19139399 0.18780816\n",
      " 0.20192739 0.18511878 0.18668758 0.23263111 0.2415957  0.25750784\n",
      " 0.25862842 0.27297176 0.29112506 0.29964142 0.29157329 0.27498879\n",
      " 0.27947109 0.26781712 0.27162707 0.27431645 0.28148812 0.25145675\n",
      " 0.26535186 0.2552667  0.27588525 0.2660242  0.24831914 0.25459435\n",
      " 0.25728373 0.25773196 0.2371134  0.23823398 0.24572021 0.24266393\n",
      " 0.24177419 0.2419997  0.24267516 0.24349998 0.24435367 0.24517669\n",
      " 0.24592593 0.24656621 0.24707292 0.24743383 0.24764864 0.24772681\n",
      " 0.247685   0.24754432 0.24732782 0.24705869 0.24675855 0.24644627\n",
      " 0.24613753 0.24584432 0.24557491 0.2453343 ]\n",
      "24 day output [[0.24512455]]\n",
      "25 day input [0.20416853 0.21156432 0.20259973 0.20461676 0.19520394 0.20797848\n",
      " 0.22142537 0.22142537 0.22523532 0.23890632 0.2447333  0.24406096\n",
      " 0.24137158 0.24271627 0.24069924 0.23442403 0.25930076 0.25907665\n",
      " 0.25616316 0.24831914 0.26176602 0.2447333  0.23330345 0.22613178\n",
      " 0.20103093 0.20416853 0.18870462 0.18287763 0.19049753 0.19766921\n",
      " 0.19878978 0.20080681 0.19744509 0.19520394 0.19722098 0.19229045\n",
      " 0.19789332 0.20909906 0.20730614 0.20170327 0.19004931 0.19206634\n",
      " 0.17817122 0.17548185 0.18377409 0.19139399 0.18780816 0.20192739\n",
      " 0.18511878 0.18668758 0.23263111 0.2415957  0.25750784 0.25862842\n",
      " 0.27297176 0.29112506 0.29964142 0.29157329 0.27498879 0.27947109\n",
      " 0.26781712 0.27162707 0.27431645 0.28148812 0.25145675 0.26535186\n",
      " 0.2552667  0.27588525 0.2660242  0.24831914 0.25459435 0.25728373\n",
      " 0.25773196 0.2371134  0.23823398 0.24572021 0.24266393 0.24177419\n",
      " 0.2419997  0.24267516 0.24349998 0.24435367 0.24517669 0.24592593\n",
      " 0.24656621 0.24707292 0.24743383 0.24764864 0.24772681 0.247685\n",
      " 0.24754432 0.24732782 0.24705869 0.24675855 0.24644627 0.24613753\n",
      " 0.24584432 0.24557491 0.2453343  0.24512455]\n",
      "25 day output [[0.24494524]]\n",
      "26 day input [0.21156432 0.20259973 0.20461676 0.19520394 0.20797848 0.22142537\n",
      " 0.22142537 0.22523532 0.23890632 0.2447333  0.24406096 0.24137158\n",
      " 0.24271627 0.24069924 0.23442403 0.25930076 0.25907665 0.25616316\n",
      " 0.24831914 0.26176602 0.2447333  0.23330345 0.22613178 0.20103093\n",
      " 0.20416853 0.18870462 0.18287763 0.19049753 0.19766921 0.19878978\n",
      " 0.20080681 0.19744509 0.19520394 0.19722098 0.19229045 0.19789332\n",
      " 0.20909906 0.20730614 0.20170327 0.19004931 0.19206634 0.17817122\n",
      " 0.17548185 0.18377409 0.19139399 0.18780816 0.20192739 0.18511878\n",
      " 0.18668758 0.23263111 0.2415957  0.25750784 0.25862842 0.27297176\n",
      " 0.29112506 0.29964142 0.29157329 0.27498879 0.27947109 0.26781712\n",
      " 0.27162707 0.27431645 0.28148812 0.25145675 0.26535186 0.2552667\n",
      " 0.27588525 0.2660242  0.24831914 0.25459435 0.25728373 0.25773196\n",
      " 0.2371134  0.23823398 0.24572021 0.24266393 0.24177419 0.2419997\n",
      " 0.24267516 0.24349998 0.24435367 0.24517669 0.24592593 0.24656621\n",
      " 0.24707292 0.24743383 0.24764864 0.24772681 0.247685   0.24754432\n",
      " 0.24732782 0.24705869 0.24675855 0.24644627 0.24613753 0.24584432\n",
      " 0.24557491 0.2453343  0.24512455 0.24494524]\n",
      "26 day output [[0.24479406]]\n",
      "27 day input [0.20259973 0.20461676 0.19520394 0.20797848 0.22142537 0.22142537\n",
      " 0.22523532 0.23890632 0.2447333  0.24406096 0.24137158 0.24271627\n",
      " 0.24069924 0.23442403 0.25930076 0.25907665 0.25616316 0.24831914\n",
      " 0.26176602 0.2447333  0.23330345 0.22613178 0.20103093 0.20416853\n",
      " 0.18870462 0.18287763 0.19049753 0.19766921 0.19878978 0.20080681\n",
      " 0.19744509 0.19520394 0.19722098 0.19229045 0.19789332 0.20909906\n",
      " 0.20730614 0.20170327 0.19004931 0.19206634 0.17817122 0.17548185\n",
      " 0.18377409 0.19139399 0.18780816 0.20192739 0.18511878 0.18668758\n",
      " 0.23263111 0.2415957  0.25750784 0.25862842 0.27297176 0.29112506\n",
      " 0.29964142 0.29157329 0.27498879 0.27947109 0.26781712 0.27162707\n",
      " 0.27431645 0.28148812 0.25145675 0.26535186 0.2552667  0.27588525\n",
      " 0.2660242  0.24831914 0.25459435 0.25728373 0.25773196 0.2371134\n",
      " 0.23823398 0.24572021 0.24266393 0.24177419 0.2419997  0.24267516\n",
      " 0.24349998 0.24435367 0.24517669 0.24592593 0.24656621 0.24707292\n",
      " 0.24743383 0.24764864 0.24772681 0.247685   0.24754432 0.24732782\n",
      " 0.24705869 0.24675855 0.24644627 0.24613753 0.24584432 0.24557491\n",
      " 0.2453343  0.24512455 0.24494524 0.24479406]\n",
      "27 day output [[0.24466753]]\n",
      "28 day input [0.20461676 0.19520394 0.20797848 0.22142537 0.22142537 0.22523532\n",
      " 0.23890632 0.2447333  0.24406096 0.24137158 0.24271627 0.24069924\n",
      " 0.23442403 0.25930076 0.25907665 0.25616316 0.24831914 0.26176602\n",
      " 0.2447333  0.23330345 0.22613178 0.20103093 0.20416853 0.18870462\n",
      " 0.18287763 0.19049753 0.19766921 0.19878978 0.20080681 0.19744509\n",
      " 0.19520394 0.19722098 0.19229045 0.19789332 0.20909906 0.20730614\n",
      " 0.20170327 0.19004931 0.19206634 0.17817122 0.17548185 0.18377409\n",
      " 0.19139399 0.18780816 0.20192739 0.18511878 0.18668758 0.23263111\n",
      " 0.2415957  0.25750784 0.25862842 0.27297176 0.29112506 0.29964142\n",
      " 0.29157329 0.27498879 0.27947109 0.26781712 0.27162707 0.27431645\n",
      " 0.28148812 0.25145675 0.26535186 0.2552667  0.27588525 0.2660242\n",
      " 0.24831914 0.25459435 0.25728373 0.25773196 0.2371134  0.23823398\n",
      " 0.24572021 0.24266393 0.24177419 0.2419997  0.24267516 0.24349998\n",
      " 0.24435367 0.24517669 0.24592593 0.24656621 0.24707292 0.24743383\n",
      " 0.24764864 0.24772681 0.247685   0.24754432 0.24732782 0.24705869\n",
      " 0.24675855 0.24644627 0.24613753 0.24584432 0.24557491 0.2453343\n",
      " 0.24512455 0.24494524 0.24479406 0.24466753]\n",
      "28 day output [[0.24456123]]\n",
      "29 day input [0.19520394 0.20797848 0.22142537 0.22142537 0.22523532 0.23890632\n",
      " 0.2447333  0.24406096 0.24137158 0.24271627 0.24069924 0.23442403\n",
      " 0.25930076 0.25907665 0.25616316 0.24831914 0.26176602 0.2447333\n",
      " 0.23330345 0.22613178 0.20103093 0.20416853 0.18870462 0.18287763\n",
      " 0.19049753 0.19766921 0.19878978 0.20080681 0.19744509 0.19520394\n",
      " 0.19722098 0.19229045 0.19789332 0.20909906 0.20730614 0.20170327\n",
      " 0.19004931 0.19206634 0.17817122 0.17548185 0.18377409 0.19139399\n",
      " 0.18780816 0.20192739 0.18511878 0.18668758 0.23263111 0.2415957\n",
      " 0.25750784 0.25862842 0.27297176 0.29112506 0.29964142 0.29157329\n",
      " 0.27498879 0.27947109 0.26781712 0.27162707 0.27431645 0.28148812\n",
      " 0.25145675 0.26535186 0.2552667  0.27588525 0.2660242  0.24831914\n",
      " 0.25459435 0.25728373 0.25773196 0.2371134  0.23823398 0.24572021\n",
      " 0.24266393 0.24177419 0.2419997  0.24267516 0.24349998 0.24435367\n",
      " 0.24517669 0.24592593 0.24656621 0.24707292 0.24743383 0.24764864\n",
      " 0.24772681 0.247685   0.24754432 0.24732782 0.24705869 0.24675855\n",
      " 0.24644627 0.24613753 0.24584432 0.24557491 0.2453343  0.24512455\n",
      " 0.24494524 0.24479406 0.24466753 0.24456123]\n",
      "29 day output [[0.24447061]]\n",
      "[[0.24572020769119263], [0.2426639348268509], [0.24177418649196625], [0.24199970066547394], [0.24267515540122986], [0.2434999793767929], [0.24435366690158844], [0.24517668783664703], [0.2459259331226349], [0.24656620621681213], [0.24707292020320892], [0.2474338263273239], [0.24764864146709442], [0.24772681295871735], [0.2476850003004074], [0.2475443184375763], [0.24732781946659088], [0.2470586895942688], [0.24675855040550232], [0.24644626677036285], [0.24613752961158752], [0.24584431946277618], [0.24557490646839142], [0.24533429741859436], [0.24512454867362976], [0.2449452430009842], [0.2447940558195114], [0.24466753005981445], [0.24456122517585754], [0.24447061121463776]]\n"
     ]
    }
   ],
   "source": [
    "# demonstrate prediction for next 10 days\n",
    "from numpy import array\n",
    "n_steps=100\n",
    "lst_output=[]\n",
    "n_steps=100\n",
    "i=0\n",
    "while(i<30):\n",
    "    if(len(temp_input)>100):\n",
    "        #print(temp_input)\n",
    "        x_input=np.array(temp_input[1:])\n",
    "        print('{} day input {}'.format(i,x_input))\n",
    "        x_input=x_input.reshape(1,-1)\n",
    "        x_input=x_input.reshape(1,n_steps,1)\n",
    "        #print(x_input)\n",
    "        yhat=model.predict(x_input,verbose=0)\n",
    "        print('{} day output {}'.format(i,yhat))\n",
    "        temp_input.extend(yhat[0].tolist())\n",
    "        temp_input=temp_input[1:]\n",
    "        #print(temp_input)\n",
    "        lst_output.extend(yhat.tolist())\n",
    "        i=i+1\n",
    "    else:\n",
    "        x_input=x_input.reshape(1,n_steps,1)\n",
    "        yhat=model.predict(x_input,verbose=0)\n",
    "        print(yhat[0])\n",
    "        temp_input.extend(yhat[0].tolist())\n",
    "        print(len(temp_input))\n",
    "        lst_output.extend(yhat.tolist())\n",
    "        i=i+1\n",
    "\n",
    "print(lst_output)"
   ]
  },
  {
   "cell_type": "code",
   "execution_count": 54,
   "id": "0b283b9c",
   "metadata": {},
   "outputs": [],
   "source": [
    "day_new=np.arange(1,101)\n",
    "day_pred=np.arange(101,131)"
   ]
  },
  {
   "cell_type": "code",
   "execution_count": 55,
   "id": "5bcc0380",
   "metadata": {},
   "outputs": [],
   "source": [
    "import matplotlib.pyplot as plt"
   ]
  },
  {
   "cell_type": "code",
   "execution_count": 56,
   "id": "b7ecd6ff",
   "metadata": {},
   "outputs": [
    {
     "data": {
      "text/plain": [
       "1235"
      ]
     },
     "execution_count": 56,
     "metadata": {},
     "output_type": "execute_result"
    }
   ],
   "source": [
    "len(df1)"
   ]
  },
  {
   "cell_type": "code",
   "execution_count": 58,
   "id": "06823d24",
   "metadata": {},
   "outputs": [],
   "source": [
    "df3=df1.tolist()\n",
    "df3.extend(lst_output)"
   ]
  },
  {
   "cell_type": "code",
   "execution_count": 59,
   "id": "75d07963",
   "metadata": {},
   "outputs": [
    {
     "data": {
      "text/plain": [
       "[<matplotlib.lines.Line2D at 0x23cc9e07730>]"
      ]
     },
     "execution_count": 59,
     "metadata": {},
     "output_type": "execute_result"
    },
    {
     "data": {
      "image/png": "[encoded data removed]",
      "text/plain": [
       "<Figure size 432x288 with 1 Axes>"
      ]
     },
     "metadata": {
      "needs_background": "light"
     },
     "output_type": "display_data"
    }
   ],
   "source": [
    "plt.plot(day_new,scaler.inverse_transform(df1[1135:]))\n",
    "plt.plot(day_pred,scaler.inverse_transform(lst_output))"
   ]
  },
  {
   "cell_type": "code",
   "execution_count": 60,
   "id": "ef575d19",
   "metadata": {},
   "outputs": [
    {
     "data": {
      "text/plain": [
       "[<matplotlib.lines.Line2D at 0x23cc9e7a0b0>]"
      ]
     },
     "execution_count": 60,
     "metadata": {},
     "output_type": "execute_result"
    },
    {
     "data": {
      "image/png": "[encoded data removed]",
      "text/plain": [
       "<Figure size 432x288 with 1 Axes>"
      ]
     },
     "metadata": {
      "needs_background": "light"
     },
     "output_type": "display_data"
    }
   ],
   "source": [
    "df3=df1.tolist()\n",
    "df3.extend(lst_output)\n",
    "plt.plot(df3[900:])"
   ]
  },
  {
   "cell_type": "code",
   "execution_count": null,
   "id": "11a6c8bb",
   "metadata": {},
   "outputs": [],
   "source": []
  }
 ],
 "metadata": {
  "kernelspec": {
   "display_name": "Python 3.10.5 64-bit",
   "language": "python",
   "name": "python3"
  },
  "language_info": {
   "codemirror_mode": {
    "name": "ipython",
    "version": 3
   },
   "file_extension": ".py",
   "mimetype": "text/x-python",
   "name": "python",
   "nbconvert_exporter": "python",
   "pygments_lexer": "ipython3",
   "version": "3.10.5"
  },
  "vscode": {
   "interpreter": {
    "hash": "658b2cc186d9bfbef875dcda5bf82a5d5e16ee8d516f4a57941142629d6783f6"
   }
  }
 },
 "nbformat": 4,
 "nbformat_minor": 5
}
