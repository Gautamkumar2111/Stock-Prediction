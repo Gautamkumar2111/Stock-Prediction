{
 "cells": [
  {
   "cell_type": "code",
   "execution_count": 1,
   "id": "da525ff4",
   "metadata": {},
   "outputs": [],
   "source": [
    "import pandas as pd"
   ]
  },
  {
   "cell_type": "code",
   "execution_count": 2,
   "id": "4de1c744",
   "metadata": {},
   "outputs": [],
   "source": [
    "df=pd.read_csv(\"NSE-TATAGLOBAL11.csv\")"
   ]
  },
  {
   "cell_type": "code",
   "execution_count": 3,
   "id": "e84f11a9",
   "metadata": {},
   "outputs": [
    {
     "data": {
      "text/html": [
       "<div>\n",
       "<style scoped>\n",
       "    .dataframe tbody tr th:only-of-type {\n",
       "        vertical-align: middle;\n",
       "    }\n",
       "\n",
       "    .dataframe tbody tr th {\n",
       "        vertical-align: top;\n",
       "    }\n",
       "\n",
       "    .dataframe thead th {\n",
       "        text-align: right;\n",
       "    }\n",
       "</style>\n",
       "<table border=\"1\" class=\"dataframe\">\n",
       "  <thead>\n",
       "    <tr style=\"text-align: right;\">\n",
       "      <th></th>\n",
       "      <th>Date</th>\n",
       "      <th>Open</th>\n",
       "      <th>High</th>\n",
       "      <th>Low</th>\n",
       "      <th>Last</th>\n",
       "      <th>Close</th>\n",
       "      <th>Total Trade Quantity</th>\n",
       "      <th>Turnover (Lacs)</th>\n",
       "    </tr>\n",
       "  </thead>\n",
       "  <tbody>\n",
       "    <tr>\n",
       "      <th>1230</th>\n",
       "      <td>2013-10-14</td>\n",
       "      <td>160.85</td>\n",
       "      <td>161.45</td>\n",
       "      <td>157.70</td>\n",
       "      <td>159.3</td>\n",
       "      <td>159.45</td>\n",
       "      <td>1281419.0</td>\n",
       "      <td>2039.09</td>\n",
       "    </tr>\n",
       "    <tr>\n",
       "      <th>1231</th>\n",
       "      <td>2013-10-11</td>\n",
       "      <td>161.15</td>\n",
       "      <td>163.45</td>\n",
       "      <td>159.00</td>\n",
       "      <td>159.8</td>\n",
       "      <td>160.05</td>\n",
       "      <td>1880046.0</td>\n",
       "      <td>3030.76</td>\n",
       "    </tr>\n",
       "    <tr>\n",
       "      <th>1232</th>\n",
       "      <td>2013-10-10</td>\n",
       "      <td>156.00</td>\n",
       "      <td>160.80</td>\n",
       "      <td>155.85</td>\n",
       "      <td>160.3</td>\n",
       "      <td>160.15</td>\n",
       "      <td>3124853.0</td>\n",
       "      <td>4978.80</td>\n",
       "    </tr>\n",
       "    <tr>\n",
       "      <th>1233</th>\n",
       "      <td>2013-10-09</td>\n",
       "      <td>155.70</td>\n",
       "      <td>158.20</td>\n",
       "      <td>154.15</td>\n",
       "      <td>155.3</td>\n",
       "      <td>155.55</td>\n",
       "      <td>2049580.0</td>\n",
       "      <td>3204.49</td>\n",
       "    </tr>\n",
       "    <tr>\n",
       "      <th>1234</th>\n",
       "      <td>2013-10-08</td>\n",
       "      <td>157.00</td>\n",
       "      <td>157.80</td>\n",
       "      <td>155.20</td>\n",
       "      <td>155.8</td>\n",
       "      <td>155.80</td>\n",
       "      <td>1720413.0</td>\n",
       "      <td>2688.94</td>\n",
       "    </tr>\n",
       "  </tbody>\n",
       "</table>\n",
       "</div>"
      ],
      "text/plain": [
       "            Date    Open    High     Low   Last   Close  Total Trade Quantity  \\\n",
       "1230  2013-10-14  160.85  161.45  157.70  159.3  159.45             1281419.0   \n",
       "1231  2013-10-11  161.15  163.45  159.00  159.8  160.05             1880046.0   \n",
       "1232  2013-10-10  156.00  160.80  155.85  160.3  160.15             3124853.0   \n",
       "1233  2013-10-09  155.70  158.20  154.15  155.3  155.55             2049580.0   \n",
       "1234  2013-10-08  157.00  157.80  155.20  155.8  155.80             1720413.0   \n",
       "\n",
       "      Turnover (Lacs)  \n",
       "1230          2039.09  \n",
       "1231          3030.76  \n",
       "1232          4978.80  \n",
       "1233          3204.49  \n",
       "1234          2688.94  "
      ]
     },
     "execution_count": 3,
     "metadata": {},
     "output_type": "execute_result"
    }
   ],
   "source": [
    "df.head()\n",
    "df.tail()"
   ]
  },
  {
   "cell_type": "code",
   "execution_count": 4,
   "id": "4759939a",
   "metadata": {},
   "outputs": [],
   "source": [
    "df1=df.reset_index()['Close']"
   ]
  },
  {
   "cell_type": "code",
   "execution_count": 5,
   "id": "e28a4e2c",
   "metadata": {},
   "outputs": [
    {
     "data": {
      "text/plain": [
       "0    215.15\n",
       "1    209.20\n",
       "2    218.20\n",
       "3    227.60\n",
       "4    230.90\n",
       "Name: Close, dtype: float64"
      ]
     },
     "execution_count": 5,
     "metadata": {},
     "output_type": "execute_result"
    }
   ],
   "source": [
    "df1.head()"
   ]
  },
  {
   "cell_type": "code",
   "execution_count": 6,
   "id": "4b06662b",
   "metadata": {},
   "outputs": [
    {
     "data": {
      "text/plain": [
       "(1235,)"
      ]
     },
     "execution_count": 6,
     "metadata": {},
     "output_type": "execute_result"
    }
   ],
   "source": [
    "df1.shape"
   ]
  },
  {
   "cell_type": "code",
   "execution_count": 7,
   "id": "16f01a7f",
   "metadata": {},
   "outputs": [],
   "source": [
    "import matplotlib.pyplot as plt"
   ]
  },
  {
   "cell_type": "code",
   "execution_count": 8,
   "id": "f5d451b6",
   "metadata": {},
   "outputs": [
    {
     "data": {
      "text/plain": [
       "[<matplotlib.lines.Line2D at 0x14cde604820>]"
      ]
     },
     "execution_count": 8,
     "metadata": {},
     "output_type": "execute_result"
    },
    {
     "data": {
      "image/png": "[encoded data removed]",
      "text/plain": [
       "<Figure size 432x288 with 1 Axes>"
      ]
     },
     "metadata": {
      "needs_background": "light"
     },
     "output_type": "display_data"
    }
   ],
   "source": [
    "plt.plot(df1)"
   ]
  },
  {
   "cell_type": "code",
   "execution_count": 9,
   "id": "e1f10993",
   "metadata": {},
   "outputs": [],
   "source": [
    "import numpy as np"
   ]
  },
  {
   "cell_type": "code",
   "execution_count": 10,
   "id": "ef7caef3",
   "metadata": {},
   "outputs": [],
   "source": [
    "from sklearn.preprocessing import MinMaxScaler\n",
    "scaler=MinMaxScaler(feature_range=(0,1))"
   ]
  },
  {
   "cell_type": "code",
   "execution_count": 11,
   "id": "4cbddae3",
   "metadata": {},
   "outputs": [],
   "source": [
    "df1=scaler.fit_transform(np.array(df1).reshape(-1,1))"
   ]
  },
  {
   "cell_type": "code",
   "execution_count": 12,
   "id": "db8a655e",
   "metadata": {},
   "outputs": [
    {
     "data": {
      "text/plain": [
       "(1235, 1)"
      ]
     },
     "execution_count": 12,
     "metadata": {},
     "output_type": "execute_result"
    }
   ],
   "source": [
    "df1.shape"
   ]
  },
  {
   "cell_type": "code",
   "execution_count": 13,
   "id": "dc529611",
   "metadata": {},
   "outputs": [
    {
     "data": {
      "text/plain": [
       "array([[0.50425818],\n",
       "       [0.47758853],\n",
       "       [0.51792918],\n",
       "       ...,\n",
       "       [0.25773196],\n",
       "       [0.2371134 ],\n",
       "       [0.23823398]])"
      ]
     },
     "execution_count": 13,
     "metadata": {},
     "output_type": "execute_result"
    }
   ],
   "source": [
    "df1"
   ]
  },
  {
   "cell_type": "code",
   "execution_count": 14,
   "id": "11110b73",
   "metadata": {},
   "outputs": [],
   "source": [
    "training_size=int(len(df1)*0.70)\n",
    "test_size=len(df1)-training_size\n",
    "train_data,test_data=df1[0:training_size,:],df1[training_size:len(df1),:1]"
   ]
  },
  {
   "cell_type": "code",
   "execution_count": 15,
   "id": "fea1ba2a",
   "metadata": {},
   "outputs": [
    {
     "data": {
      "text/plain": [
       "(864, 371)"
      ]
     },
     "execution_count": 15,
     "metadata": {},
     "output_type": "execute_result"
    }
   ],
   "source": [
    "training_size,test_size"
   ]
  },
  {
   "cell_type": "code",
   "execution_count": 16,
   "id": "38a9d4fd",
   "metadata": {},
   "outputs": [],
   "source": [
    "import numpy"
   ]
  },
  {
   "cell_type": "code",
   "execution_count": 17,
   "id": "2540a272",
   "metadata": {},
   "outputs": [],
   "source": [
    "def create_dataset(dataset,time_step=1):\n",
    "\n",
    "    dataX,dataY=[],[]\n",
    "    for i in range(len(dataset)-time_step-1):\n",
    "        a=dataset[i:(i+time_step),0]\n",
    "        dataX.append(a)\n",
    "        dataY.append(dataset[i+time_step,0])\n",
    "    return numpy.array(dataX),numpy.array(dataY)"
   ]
  },
  {
   "cell_type": "code",
   "execution_count": 18,
   "id": "fc61ac62",
   "metadata": {},
   "outputs": [],
   "source": [
    "time_step=100\n",
    "x_train,y_train=create_dataset(train_data,time_step)\n",
    "x_test,y_test=create_dataset(test_data,time_step)"
   ]
  },
  {
   "cell_type": "code",
   "execution_count": 19,
   "id": "deff30f5",
   "metadata": {},
   "outputs": [
    {
     "name": "stdout",
     "output_type": "stream",
     "text": [
      "[[0.50425818 0.47758853 0.51792918 ... 0.64926042 0.62057373 0.62752129]\n",
      " [0.47758853 0.51792918 0.56006275 ... 0.62057373 0.62752129 0.6869117 ]\n",
      " [0.51792918 0.56006275 0.57485433 ... 0.62752129 0.6869117  0.82855222]\n",
      " ...\n",
      " [0.082026   0.07978485 0.07866428 ... 0.21313312 0.21066786 0.21313312]\n",
      " [0.07978485 0.07866428 0.09636934 ... 0.21066786 0.21313312 0.22680412]\n",
      " [0.07866428 0.09636934 0.07261318 ... 0.21313312 0.22680412 0.24607799]]\n"
     ]
    }
   ],
   "source": [
    "print(x_train)"
   ]
  },
  {
   "cell_type": "code",
   "execution_count": 19,
   "id": "3e269b00",
   "metadata": {},
   "outputs": [
    {
     "name": "stdout",
     "output_type": "stream",
     "text": [
      "(270, 100)\n",
      "(270,)\n"
     ]
    },
    {
     "data": {
      "text/plain": [
       "(None, None)"
      ]
     },
     "execution_count": 19,
     "metadata": {},
     "output_type": "execute_result"
    }
   ],
   "source": [
    "print(x_test.shape),print(y_test.shape)"
   ]
  },
  {
   "cell_type": "code",
   "execution_count": 20,
   "id": "72ca2543",
   "metadata": {},
   "outputs": [],
   "source": [
    "x_train=x_train.reshape(x_train.shape[0],x_train.shape[1],1)\n",
    "x_test=x_test.reshape(x_test.shape[0],x_test.shape[1],1)"
   ]
  },
  {
   "cell_type": "code",
   "execution_count": 21,
   "id": "3b07c840",
   "metadata": {},
   "outputs": [],
   "source": [
    "from tensorflow.python.keras.models import Sequential\n",
    "from tensorflow.python.keras.layers import Dense\n",
    "from tensorflow.python.keras.layers import LSTM"
   ]
  },
  {
   "cell_type": "code",
   "execution_count": 22,
   "id": "4569f0e5",
   "metadata": {},
   "outputs": [],
   "source": [
    "model=Sequential()\n",
    "model.add(LSTM(50,return_sequences=True,input_shape=(100,1)))\n",
    "model.add(LSTM(50,return_sequences=True))\n",
    "model.add(LSTM(50))\n",
    "model.add(Dense(1))\n",
    "model.compile(loss=\"mean_squared_error\", optimizer=\"adam\")"
   ]
  },
  {
   "cell_type": "code",
   "execution_count": 23,
   "id": "e5a7df1d",
   "metadata": {},
   "outputs": [
    {
     "name": "stdout",
     "output_type": "stream",
     "text": [
      "Model: \"sequential\"\n",
      "_________________________________________________________________\n",
      "Layer (type)                 Output Shape              Param #   \n",
      "=================================================================\n",
      "lstm (LSTM)                  (None, 100, 50)           10400     \n",
      "_________________________________________________________________\n",
      "lstm_1 (LSTM)                (None, 100, 50)           20200     \n",
      "_________________________________________________________________\n",
      "lstm_2 (LSTM)                (None, 50)                20200     \n",
      "_________________________________________________________________\n",
      "dense (Dense)                (None, 1)                 51        \n",
      "=================================================================\n",
      "Total params: 50,851\n",
      "Trainable params: 50,851\n",
      "Non-trainable params: 0\n",
      "_________________________________________________________________\n"
     ]
    }
   ],
   "source": [
    "model.summary()"
   ]
  },
  {
   "cell_type": "code",
   "execution_count": 24,
   "id": "c04455a2",
   "metadata": {},
   "outputs": [
    {
     "name": "stdout",
     "output_type": "stream",
     "text": [
      "Epoch 1/100\n",
      "12/12 [==============================] - 9s 243ms/step - loss: 0.0427 - val_loss: 0.0028\n",
      "Epoch 2/100\n",
      "12/12 [==============================] - 2s 179ms/step - loss: 0.0080 - val_loss: 0.0020\n",
      "Epoch 3/100\n",
      "12/12 [==============================] - 2s 176ms/step - loss: 0.0036 - val_loss: 0.0013\n",
      "Epoch 4/100\n",
      "12/12 [==============================] - 2s 172ms/step - loss: 0.0026 - val_loss: 0.0010\n",
      "Epoch 5/100\n",
      "12/12 [==============================] - 2s 174ms/step - loss: 0.0024 - val_loss: 0.0011\n",
      "Epoch 6/100\n",
      "12/12 [==============================] - 2s 168ms/step - loss: 0.0022 - val_loss: 0.0012\n",
      "Epoch 7/100\n",
      "12/12 [==============================] - 2s 190ms/step - loss: 0.0022 - val_loss: 0.0010\n",
      "Epoch 8/100\n",
      "12/12 [==============================] - 3s 235ms/step - loss: 0.0020 - val_loss: 0.0011\n",
      "Epoch 9/100\n",
      "12/12 [==============================] - 3s 243ms/step - loss: 0.0021 - val_loss: 0.0012\n",
      "Epoch 10/100\n",
      "12/12 [==============================] - 3s 232ms/step - loss: 0.0023 - val_loss: 0.0012\n",
      "Epoch 11/100\n",
      "12/12 [==============================] - 3s 232ms/step - loss: 0.0020 - val_loss: 9.5178e-04\n",
      "Epoch 12/100\n",
      "12/12 [==============================] - 3s 229ms/step - loss: 0.0019 - val_loss: 8.4939e-04\n",
      "Epoch 13/100\n",
      "12/12 [==============================] - 3s 227ms/step - loss: 0.0017 - val_loss: 9.0363e-04\n",
      "Epoch 14/100\n",
      "12/12 [==============================] - 3s 225ms/step - loss: 0.0017 - val_loss: 7.7811e-04\n",
      "Epoch 15/100\n",
      "12/12 [==============================] - 3s 228ms/step - loss: 0.0019 - val_loss: 7.9952e-04\n",
      "Epoch 16/100\n",
      "12/12 [==============================] - 3s 227ms/step - loss: 0.0017 - val_loss: 7.5569e-04\n",
      "Epoch 17/100\n",
      "12/12 [==============================] - 3s 225ms/step - loss: 0.0015 - val_loss: 0.0010\n",
      "Epoch 18/100\n",
      "12/12 [==============================] - 3s 228ms/step - loss: 0.0016 - val_loss: 0.0011\n",
      "Epoch 19/100\n",
      "12/12 [==============================] - 3s 225ms/step - loss: 0.0018 - val_loss: 7.3531e-04\n",
      "Epoch 20/100\n",
      "12/12 [==============================] - 3s 231ms/step - loss: 0.0015 - val_loss: 7.2776e-04\n",
      "Epoch 21/100\n",
      "12/12 [==============================] - 3s 228ms/step - loss: 0.0014 - val_loss: 7.0686e-04\n",
      "Epoch 22/100\n",
      "12/12 [==============================] - 3s 229ms/step - loss: 0.0014 - val_loss: 9.1401e-04\n",
      "Epoch 23/100\n",
      "12/12 [==============================] - 3s 226ms/step - loss: 0.0014 - val_loss: 6.8844e-04\n",
      "Epoch 24/100\n",
      "12/12 [==============================] - 3s 229ms/step - loss: 0.0012 - val_loss: 6.8789e-04\n",
      "Epoch 25/100\n",
      "12/12 [==============================] - 3s 228ms/step - loss: 0.0012 - val_loss: 6.6976e-04\n",
      "Epoch 26/100\n",
      "12/12 [==============================] - 3s 225ms/step - loss: 0.0012 - val_loss: 6.6331e-04\n",
      "Epoch 27/100\n",
      "12/12 [==============================] - 3s 229ms/step - loss: 0.0013 - val_loss: 7.4004e-04\n",
      "Epoch 28/100\n",
      "12/12 [==============================] - 3s 233ms/step - loss: 0.0012 - val_loss: 7.9090e-04\n",
      "Epoch 29/100\n",
      "12/12 [==============================] - 3s 228ms/step - loss: 0.0011 - val_loss: 7.4385e-04\n",
      "Epoch 30/100\n",
      "12/12 [==============================] - 3s 232ms/step - loss: 0.0014 - val_loss: 6.4483e-04\n",
      "Epoch 31/100\n",
      "12/12 [==============================] - 3s 226ms/step - loss: 0.0012 - val_loss: 7.2023e-04\n",
      "Epoch 32/100\n",
      "12/12 [==============================] - 3s 226ms/step - loss: 0.0011 - val_loss: 6.9080e-04\n",
      "Epoch 33/100\n",
      "12/12 [==============================] - 3s 229ms/step - loss: 0.0011 - val_loss: 7.6693e-04\n",
      "Epoch 34/100\n",
      "12/12 [==============================] - 3s 226ms/step - loss: 0.0011 - val_loss: 7.4594e-04\n",
      "Epoch 35/100\n",
      "12/12 [==============================] - 3s 227ms/step - loss: 0.0010 - val_loss: 6.5347e-04\n",
      "Epoch 36/100\n",
      "12/12 [==============================] - 3s 232ms/step - loss: 9.8837e-04 - val_loss: 6.7016e-04\n",
      "Epoch 37/100\n",
      "12/12 [==============================] - 3s 226ms/step - loss: 9.6592e-04 - val_loss: 6.9975e-04\n",
      "Epoch 38/100\n",
      "12/12 [==============================] - 3s 225ms/step - loss: 9.8565e-04 - val_loss: 5.9386e-04\n",
      "Epoch 39/100\n",
      "12/12 [==============================] - 3s 228ms/step - loss: 9.5353e-04 - val_loss: 7.6581e-04\n",
      "Epoch 40/100\n",
      "12/12 [==============================] - 3s 225ms/step - loss: 0.0010 - val_loss: 5.7130e-04\n",
      "Epoch 41/100\n",
      "12/12 [==============================] - 3s 228ms/step - loss: 9.2928e-04 - val_loss: 5.8302e-04\n",
      "Epoch 42/100\n",
      "12/12 [==============================] - 3s 228ms/step - loss: 9.3408e-04 - val_loss: 8.0864e-04\n",
      "Epoch 43/100\n",
      "12/12 [==============================] - 3s 225ms/step - loss: 9.8427e-04 - val_loss: 5.6283e-04\n",
      "Epoch 44/100\n",
      "12/12 [==============================] - 3s 225ms/step - loss: 0.0011 - val_loss: 6.8257e-04\n",
      "Epoch 45/100\n",
      "12/12 [==============================] - 3s 228ms/step - loss: 8.6073e-04 - val_loss: 5.7235e-04\n",
      "Epoch 46/100\n",
      "12/12 [==============================] - 3s 232ms/step - loss: 8.5954e-04 - val_loss: 5.4274e-04\n",
      "Epoch 47/100\n",
      "12/12 [==============================] - 3s 226ms/step - loss: 9.5933e-04 - val_loss: 5.9437e-04\n",
      "Epoch 48/100\n",
      "12/12 [==============================] - 3s 226ms/step - loss: 8.4585e-04 - val_loss: 6.1894e-04\n",
      "Epoch 49/100\n",
      "12/12 [==============================] - 3s 228ms/step - loss: 9.5127e-04 - val_loss: 5.5185e-04\n",
      "Epoch 50/100\n",
      "12/12 [==============================] - 3s 226ms/step - loss: 8.9664e-04 - val_loss: 6.4953e-04\n",
      "Epoch 51/100\n",
      "12/12 [==============================] - 3s 226ms/step - loss: 8.1229e-04 - val_loss: 5.6292e-04\n",
      "Epoch 52/100\n",
      "12/12 [==============================] - 3s 235ms/step - loss: 7.9595e-04 - val_loss: 5.0296e-04\n",
      "Epoch 53/100\n",
      "12/12 [==============================] - 3s 238ms/step - loss: 7.8573e-04 - val_loss: 5.7219e-04\n",
      "Epoch 54/100\n",
      "12/12 [==============================] - 3s 230ms/step - loss: 7.7276e-04 - val_loss: 6.0251e-04\n",
      "Epoch 55/100\n",
      "12/12 [==============================] - 3s 229ms/step - loss: 7.9949e-04 - val_loss: 5.0023e-04\n",
      "Epoch 56/100\n",
      "12/12 [==============================] - 3s 228ms/step - loss: 7.5898e-04 - val_loss: 5.3423e-04\n",
      "Epoch 57/100\n",
      "12/12 [==============================] - 3s 227ms/step - loss: 7.4197e-04 - val_loss: 5.5570e-04\n",
      "Epoch 58/100\n",
      "12/12 [==============================] - 3s 228ms/step - loss: 7.4425e-04 - val_loss: 4.8112e-04\n",
      "Epoch 59/100\n",
      "12/12 [==============================] - 3s 233ms/step - loss: 7.3139e-04 - val_loss: 4.7392e-04\n",
      "Epoch 60/100\n",
      "12/12 [==============================] - 3s 228ms/step - loss: 7.8109e-04 - val_loss: 6.4816e-04\n",
      "Epoch 61/100\n",
      "12/12 [==============================] - 3s 228ms/step - loss: 7.5011e-04 - val_loss: 4.7347e-04\n",
      "Epoch 62/100\n",
      "12/12 [==============================] - 3s 227ms/step - loss: 6.9622e-04 - val_loss: 4.7051e-04\n",
      "Epoch 63/100\n",
      "12/12 [==============================] - 3s 228ms/step - loss: 6.5401e-04 - val_loss: 4.5468e-04\n",
      "Epoch 64/100\n",
      "12/12 [==============================] - 3s 229ms/step - loss: 7.6655e-04 - val_loss: 5.0504e-04\n",
      "Epoch 65/100\n",
      "12/12 [==============================] - 3s 229ms/step - loss: 9.3464e-04 - val_loss: 5.2828e-04\n",
      "Epoch 66/100\n",
      "12/12 [==============================] - 3s 229ms/step - loss: 7.1024e-04 - val_loss: 5.5825e-04\n",
      "Epoch 67/100\n",
      "12/12 [==============================] - 3s 234ms/step - loss: 6.4839e-04 - val_loss: 4.3599e-04\n",
      "Epoch 68/100\n",
      "12/12 [==============================] - 3s 228ms/step - loss: 6.5335e-04 - val_loss: 4.3028e-04\n",
      "Epoch 69/100\n",
      "12/12 [==============================] - 3s 229ms/step - loss: 5.9123e-04 - val_loss: 4.8237e-04\n",
      "Epoch 70/100\n",
      "12/12 [==============================] - 3s 233ms/step - loss: 6.1159e-04 - val_loss: 4.2669e-04\n",
      "Epoch 71/100\n",
      "12/12 [==============================] - 3s 231ms/step - loss: 5.7481e-04 - val_loss: 4.5668e-04\n",
      "Epoch 72/100\n",
      "12/12 [==============================] - 3s 227ms/step - loss: 6.2592e-04 - val_loss: 4.1798e-04\n",
      "Epoch 73/100\n",
      "12/12 [==============================] - 3s 229ms/step - loss: 6.2311e-04 - val_loss: 4.0846e-04\n",
      "Epoch 74/100\n",
      "12/12 [==============================] - 3s 229ms/step - loss: 6.4091e-04 - val_loss: 4.6294e-04\n",
      "Epoch 75/100\n",
      "12/12 [==============================] - 3s 229ms/step - loss: 5.5830e-04 - val_loss: 4.1408e-04\n",
      "Epoch 76/100\n",
      "12/12 [==============================] - 3s 229ms/step - loss: 6.1037e-04 - val_loss: 4.7526e-04\n",
      "Epoch 77/100\n",
      "12/12 [==============================] - 3s 232ms/step - loss: 5.3712e-04 - val_loss: 3.8422e-04\n",
      "Epoch 78/100\n",
      "12/12 [==============================] - 3s 227ms/step - loss: 6.4604e-04 - val_loss: 5.0782e-04\n",
      "Epoch 79/100\n",
      "12/12 [==============================] - 3s 229ms/step - loss: 7.7216e-04 - val_loss: 3.7792e-04\n",
      "Epoch 80/100\n",
      "12/12 [==============================] - 3s 231ms/step - loss: 8.6076e-04 - val_loss: 4.0947e-04\n",
      "Epoch 81/100\n",
      "12/12 [==============================] - 3s 226ms/step - loss: 6.8043e-04 - val_loss: 5.1649e-04\n",
      "Epoch 82/100\n",
      "12/12 [==============================] - 3s 231ms/step - loss: 5.6670e-04 - val_loss: 3.7398e-04\n",
      "Epoch 83/100\n",
      "12/12 [==============================] - 3s 225ms/step - loss: 5.8127e-04 - val_loss: 4.5434e-04\n",
      "Epoch 84/100\n",
      "12/12 [==============================] - 3s 230ms/step - loss: 5.6451e-04 - val_loss: 3.6295e-04\n",
      "Epoch 85/100\n",
      "12/12 [==============================] - 3s 232ms/step - loss: 6.9764e-04 - val_loss: 5.0887e-04\n",
      "Epoch 86/100\n",
      "12/12 [==============================] - 3s 227ms/step - loss: 6.6788e-04 - val_loss: 3.7888e-04\n",
      "Epoch 87/100\n",
      "12/12 [==============================] - 3s 225ms/step - loss: 5.2931e-04 - val_loss: 3.5137e-04\n",
      "Epoch 88/100\n",
      "12/12 [==============================] - 3s 230ms/step - loss: 4.8372e-04 - val_loss: 3.6937e-04\n",
      "Epoch 89/100\n",
      "12/12 [==============================] - 3s 228ms/step - loss: 4.9960e-04 - val_loss: 3.5158e-04\n",
      "Epoch 90/100\n",
      "12/12 [==============================] - 3s 227ms/step - loss: 4.6503e-04 - val_loss: 3.8932e-04\n",
      "Epoch 91/100\n",
      "12/12 [==============================] - 3s 231ms/step - loss: 4.8766e-04 - val_loss: 3.4115e-04\n",
      "Epoch 92/100\n",
      "12/12 [==============================] - 3s 228ms/step - loss: 4.6063e-04 - val_loss: 4.2784e-04\n",
      "Epoch 93/100\n",
      "12/12 [==============================] - 3s 226ms/step - loss: 4.4938e-04 - val_loss: 3.4724e-04\n",
      "Epoch 94/100\n",
      "12/12 [==============================] - 3s 229ms/step - loss: 4.4945e-04 - val_loss: 3.3126e-04\n",
      "Epoch 95/100\n",
      "12/12 [==============================] - 3s 228ms/step - loss: 5.0831e-04 - val_loss: 3.3712e-04\n",
      "Epoch 96/100\n",
      "12/12 [==============================] - 3s 227ms/step - loss: 4.7737e-04 - val_loss: 3.2648e-04\n",
      "Epoch 97/100\n",
      "12/12 [==============================] - 3s 235ms/step - loss: 4.5111e-04 - val_loss: 3.1774e-04\n",
      "Epoch 98/100\n",
      "12/12 [==============================] - 3s 234ms/step - loss: 4.3432e-04 - val_loss: 3.3739e-04\n",
      "Epoch 99/100\n",
      "12/12 [==============================] - 3s 228ms/step - loss: 4.3004e-04 - val_loss: 3.1364e-04\n",
      "Epoch 100/100\n",
      "12/12 [==============================] - 3s 229ms/step - loss: 4.3506e-04 - val_loss: 3.2127e-04\n"
     ]
    },
    {
     "data": {
      "text/plain": [
       "<tensorflow.python.keras.callbacks.History at 0x14cf89fd840>"
      ]
     },
     "execution_count": 24,
     "metadata": {},
     "output_type": "execute_result"
    }
   ],
   "source": [
    "model.fit(x_train,y_train,validation_data=(x_test,y_test),epochs=100,batch_size=64,verbose=1)"
   ]
  },
  {
   "cell_type": "code",
   "execution_count": 25,
   "id": "ddd0fbc2",
   "metadata": {},
   "outputs": [],
   "source": [
    "import tensorflow as tf"
   ]
  },
  {
   "cell_type": "code",
   "execution_count": 26,
   "id": "4954831b",
   "metadata": {},
   "outputs": [],
   "source": [
    "train_predict=model.predict(x_train)\n",
    "test_predict=model.predict(x_test)"
   ]
  },
  {
   "cell_type": "code",
   "execution_count": 27,
   "id": "81c20b70",
   "metadata": {},
   "outputs": [],
   "source": [
    "train_predict=scaler.inverse_transform(train_predict)\n",
    "test_predict=scaler.inverse_transform(test_predict)"
   ]
  },
  {
   "cell_type": "code",
   "execution_count": 28,
   "id": "8c64e4dd",
   "metadata": {},
   "outputs": [],
   "source": [
    "import math"
   ]
  },
  {
   "cell_type": "code",
   "execution_count": 29,
   "id": "bd02c42f",
   "metadata": {},
   "outputs": [
    {
     "data": {
      "text/plain": [
       "175.1074960935947"
      ]
     },
     "execution_count": 29,
     "metadata": {},
     "output_type": "execute_result"
    }
   ],
   "source": [
    "from sklearn.metrics import mean_squared_error\n",
    "math.sqrt(mean_squared_error(y_train,train_predict))"
   ]
  },
  {
   "cell_type": "code",
   "execution_count": 30,
   "id": "3035f036",
   "metadata": {},
   "outputs": [
    {
     "data": {
      "text/plain": [
       "153.09094326637478"
      ]
     },
     "execution_count": 30,
     "metadata": {},
     "output_type": "execute_result"
    }
   ],
   "source": [
    "math.sqrt(mean_squared_error(y_test,test_predict))"
   ]
  },
  {
   "cell_type": "code",
   "execution_count": 31,
   "id": "ebc56268",
   "metadata": {},
   "outputs": [
    {
     "data": {
      "image/png": "[encoded data removed]",
      "text/plain": [
       "<Figure size 432x288 with 1 Axes>"
      ]
     },
     "metadata": {
      "needs_background": "light"
     },
     "output_type": "display_data"
    }
   ],
   "source": [
    "## plotting\n",
    "# shift train prediction for plotting\n",
    "look_back=100\n",
    "trainPredictPlot = numpy.empty_like(df1)\n",
    "trainPredictPlot[:,:] = np.nan\n",
    "trainPredictPlot[look_back:len(train_predict)+look_back,:] = train_predict\n",
    "# shift test prediction for plotting\n",
    "testPredictPlot = numpy.empty_like(df1)\n",
    "testPredictPlot[:,:] = numpy.nan\n",
    "testPredictPlot[len(train_predict)+(look_back*2)+1:len(df1)-1,:] = test_predict \n",
    "# plot baseline and predictions\n",
    "plt.plot(scaler.inverse_transform(df1))\n",
    "plt.plot(trainPredictPlot)\n",
    "plt.plot(testPredictPlot)\n",
    "plt.show()"
   ]
  },
  {
   "cell_type": "code",
   "execution_count": 32,
   "id": "5439c9a9",
   "metadata": {},
   "outputs": [
    {
     "data": {
      "text/plain": [
       "371"
      ]
     },
     "execution_count": 32,
     "metadata": {},
     "output_type": "execute_result"
    }
   ],
   "source": [
    "len(test_data)"
   ]
  },
  {
   "cell_type": "code",
   "execution_count": 33,
   "id": "b18f08d9",
   "metadata": {},
   "outputs": [
    {
     "data": {
      "text/plain": [
       "(1, 100)"
      ]
     },
     "execution_count": 33,
     "metadata": {},
     "output_type": "execute_result"
    }
   ],
   "source": [
    "x_input=test_data[271:].reshape(1,-1)\n",
    "x_input.shape"
   ]
  },
  {
   "cell_type": "code",
   "execution_count": 34,
   "id": "e13ff535",
   "metadata": {},
   "outputs": [],
   "source": [
    "temp_input=list(x_input)\n",
    "temp_input=temp_input[0].tolist()"
   ]
  },
  {
   "cell_type": "code",
   "execution_count": 35,
   "id": "4201b831",
   "metadata": {},
   "outputs": [
    {
     "name": "stdout",
     "output_type": "stream",
     "text": [
      "[0.24157172]\n",
      "101\n",
      "1 day input [0.16651726 0.17279247 0.17951591 0.17637831 0.17234424 0.16898252\n",
      " 0.16831017 0.16248319 0.16987898 0.17525773 0.18556701 0.18915285\n",
      " 0.18354998 0.1824294  0.17256835 0.18108472 0.18153294 0.17055132\n",
      " 0.17189601 0.16943075 0.17705065 0.16270731 0.17346481 0.18646347\n",
      " 0.20416853 0.21156432 0.20259973 0.20461676 0.19520394 0.20797848\n",
      " 0.22142537 0.22142537 0.22523532 0.23890632 0.2447333  0.24406096\n",
      " 0.24137158 0.24271627 0.24069924 0.23442403 0.25930076 0.25907665\n",
      " 0.25616316 0.24831914 0.26176602 0.2447333  0.23330345 0.22613178\n",
      " 0.20103093 0.20416853 0.18870462 0.18287763 0.19049753 0.19766921\n",
      " 0.19878978 0.20080681 0.19744509 0.19520394 0.19722098 0.19229045\n",
      " 0.19789332 0.20909906 0.20730614 0.20170327 0.19004931 0.19206634\n",
      " 0.17817122 0.17548185 0.18377409 0.19139399 0.18780816 0.20192739\n",
      " 0.18511878 0.18668758 0.23263111 0.2415957  0.25750784 0.25862842\n",
      " 0.27297176 0.29112506 0.29964142 0.29157329 0.27498879 0.27947109\n",
      " 0.26781712 0.27162707 0.27431645 0.28148812 0.25145675 0.26535186\n",
      " 0.2552667  0.27588525 0.2660242  0.24831914 0.25459435 0.25728373\n",
      " 0.25773196 0.2371134  0.23823398 0.24157172]\n",
      "1 day output [[0.23744223]]\n",
      "2 day input [0.17279247 0.17951591 0.17637831 0.17234424 0.16898252 0.16831017\n",
      " 0.16248319 0.16987898 0.17525773 0.18556701 0.18915285 0.18354998\n",
      " 0.1824294  0.17256835 0.18108472 0.18153294 0.17055132 0.17189601\n",
      " 0.16943075 0.17705065 0.16270731 0.17346481 0.18646347 0.20416853\n",
      " 0.21156432 0.20259973 0.20461676 0.19520394 0.20797848 0.22142537\n",
      " 0.22142537 0.22523532 0.23890632 0.2447333  0.24406096 0.24137158\n",
      " 0.24271627 0.24069924 0.23442403 0.25930076 0.25907665 0.25616316\n",
      " 0.24831914 0.26176602 0.2447333  0.23330345 0.22613178 0.20103093\n",
      " 0.20416853 0.18870462 0.18287763 0.19049753 0.19766921 0.19878978\n",
      " 0.20080681 0.19744509 0.19520394 0.19722098 0.19229045 0.19789332\n",
      " 0.20909906 0.20730614 0.20170327 0.19004931 0.19206634 0.17817122\n",
      " 0.17548185 0.18377409 0.19139399 0.18780816 0.20192739 0.18511878\n",
      " 0.18668758 0.23263111 0.2415957  0.25750784 0.25862842 0.27297176\n",
      " 0.29112506 0.29964142 0.29157329 0.27498879 0.27947109 0.26781712\n",
      " 0.27162707 0.27431645 0.28148812 0.25145675 0.26535186 0.2552667\n",
      " 0.27588525 0.2660242  0.24831914 0.25459435 0.25728373 0.25773196\n",
      " 0.2371134  0.23823398 0.24157172 0.23744223]\n",
      "2 day output [[0.23474118]]\n",
      "3 day input [0.17951591 0.17637831 0.17234424 0.16898252 0.16831017 0.16248319\n",
      " 0.16987898 0.17525773 0.18556701 0.18915285 0.18354998 0.1824294\n",
      " 0.17256835 0.18108472 0.18153294 0.17055132 0.17189601 0.16943075\n",
      " 0.17705065 0.16270731 0.17346481 0.18646347 0.20416853 0.21156432\n",
      " 0.20259973 0.20461676 0.19520394 0.20797848 0.22142537 0.22142537\n",
      " 0.22523532 0.23890632 0.2447333  0.24406096 0.24137158 0.24271627\n",
      " 0.24069924 0.23442403 0.25930076 0.25907665 0.25616316 0.24831914\n",
      " 0.26176602 0.2447333  0.23330345 0.22613178 0.20103093 0.20416853\n",
      " 0.18870462 0.18287763 0.19049753 0.19766921 0.19878978 0.20080681\n",
      " 0.19744509 0.19520394 0.19722098 0.19229045 0.19789332 0.20909906\n",
      " 0.20730614 0.20170327 0.19004931 0.19206634 0.17817122 0.17548185\n",
      " 0.18377409 0.19139399 0.18780816 0.20192739 0.18511878 0.18668758\n",
      " 0.23263111 0.2415957  0.25750784 0.25862842 0.27297176 0.29112506\n",
      " 0.29964142 0.29157329 0.27498879 0.27947109 0.26781712 0.27162707\n",
      " 0.27431645 0.28148812 0.25145675 0.26535186 0.2552667  0.27588525\n",
      " 0.2660242  0.24831914 0.25459435 0.25728373 0.25773196 0.2371134\n",
      " 0.23823398 0.24157172 0.23744223 0.23474118]\n",
      "3 day output [[0.23278135]]\n",
      "4 day input [0.17637831 0.17234424 0.16898252 0.16831017 0.16248319 0.16987898\n",
      " 0.17525773 0.18556701 0.18915285 0.18354998 0.1824294  0.17256835\n",
      " 0.18108472 0.18153294 0.17055132 0.17189601 0.16943075 0.17705065\n",
      " 0.16270731 0.17346481 0.18646347 0.20416853 0.21156432 0.20259973\n",
      " 0.20461676 0.19520394 0.20797848 0.22142537 0.22142537 0.22523532\n",
      " 0.23890632 0.2447333  0.24406096 0.24137158 0.24271627 0.24069924\n",
      " 0.23442403 0.25930076 0.25907665 0.25616316 0.24831914 0.26176602\n",
      " 0.2447333  0.23330345 0.22613178 0.20103093 0.20416853 0.18870462\n",
      " 0.18287763 0.19049753 0.19766921 0.19878978 0.20080681 0.19744509\n",
      " 0.19520394 0.19722098 0.19229045 0.19789332 0.20909906 0.20730614\n",
      " 0.20170327 0.19004931 0.19206634 0.17817122 0.17548185 0.18377409\n",
      " 0.19139399 0.18780816 0.20192739 0.18511878 0.18668758 0.23263111\n",
      " 0.2415957  0.25750784 0.25862842 0.27297176 0.29112506 0.29964142\n",
      " 0.29157329 0.27498879 0.27947109 0.26781712 0.27162707 0.27431645\n",
      " 0.28148812 0.25145675 0.26535186 0.2552667  0.27588525 0.2660242\n",
      " 0.24831914 0.25459435 0.25728373 0.25773196 0.2371134  0.23823398\n",
      " 0.24157172 0.23744223 0.23474118 0.23278135]\n",
      "4 day output [[0.2311419]]\n",
      "5 day input [0.17234424 0.16898252 0.16831017 0.16248319 0.16987898 0.17525773\n",
      " 0.18556701 0.18915285 0.18354998 0.1824294  0.17256835 0.18108472\n",
      " 0.18153294 0.17055132 0.17189601 0.16943075 0.17705065 0.16270731\n",
      " 0.17346481 0.18646347 0.20416853 0.21156432 0.20259973 0.20461676\n",
      " 0.19520394 0.20797848 0.22142537 0.22142537 0.22523532 0.23890632\n",
      " 0.2447333  0.24406096 0.24137158 0.24271627 0.24069924 0.23442403\n",
      " 0.25930076 0.25907665 0.25616316 0.24831914 0.26176602 0.2447333\n",
      " 0.23330345 0.22613178 0.20103093 0.20416853 0.18870462 0.18287763\n",
      " 0.19049753 0.19766921 0.19878978 0.20080681 0.19744509 0.19520394\n",
      " 0.19722098 0.19229045 0.19789332 0.20909906 0.20730614 0.20170327\n",
      " 0.19004931 0.19206634 0.17817122 0.17548185 0.18377409 0.19139399\n",
      " 0.18780816 0.20192739 0.18511878 0.18668758 0.23263111 0.2415957\n",
      " 0.25750784 0.25862842 0.27297176 0.29112506 0.29964142 0.29157329\n",
      " 0.27498879 0.27947109 0.26781712 0.27162707 0.27431645 0.28148812\n",
      " 0.25145675 0.26535186 0.2552667  0.27588525 0.2660242  0.24831914\n",
      " 0.25459435 0.25728373 0.25773196 0.2371134  0.23823398 0.24157172\n",
      " 0.23744223 0.23474118 0.23278135 0.2311419 ]\n",
      "5 day output [[0.22963685]]\n",
      "6 day input [0.16898252 0.16831017 0.16248319 0.16987898 0.17525773 0.18556701\n",
      " 0.18915285 0.18354998 0.1824294  0.17256835 0.18108472 0.18153294\n",
      " 0.17055132 0.17189601 0.16943075 0.17705065 0.16270731 0.17346481\n",
      " 0.18646347 0.20416853 0.21156432 0.20259973 0.20461676 0.19520394\n",
      " 0.20797848 0.22142537 0.22142537 0.22523532 0.23890632 0.2447333\n",
      " 0.24406096 0.24137158 0.24271627 0.24069924 0.23442403 0.25930076\n",
      " 0.25907665 0.25616316 0.24831914 0.26176602 0.2447333  0.23330345\n",
      " 0.22613178 0.20103093 0.20416853 0.18870462 0.18287763 0.19049753\n",
      " 0.19766921 0.19878978 0.20080681 0.19744509 0.19520394 0.19722098\n",
      " 0.19229045 0.19789332 0.20909906 0.20730614 0.20170327 0.19004931\n",
      " 0.19206634 0.17817122 0.17548185 0.18377409 0.19139399 0.18780816\n",
      " 0.20192739 0.18511878 0.18668758 0.23263111 0.2415957  0.25750784\n",
      " 0.25862842 0.27297176 0.29112506 0.29964142 0.29157329 0.27498879\n",
      " 0.27947109 0.26781712 0.27162707 0.27431645 0.28148812 0.25145675\n",
      " 0.26535186 0.2552667  0.27588525 0.2660242  0.24831914 0.25459435\n",
      " 0.25728373 0.25773196 0.2371134  0.23823398 0.24157172 0.23744223\n",
      " 0.23474118 0.23278135 0.2311419  0.22963685]\n",
      "6 day output [[0.22819406]]\n",
      "7 day input [0.16831017 0.16248319 0.16987898 0.17525773 0.18556701 0.18915285\n",
      " 0.18354998 0.1824294  0.17256835 0.18108472 0.18153294 0.17055132\n",
      " 0.17189601 0.16943075 0.17705065 0.16270731 0.17346481 0.18646347\n",
      " 0.20416853 0.21156432 0.20259973 0.20461676 0.19520394 0.20797848\n",
      " 0.22142537 0.22142537 0.22523532 0.23890632 0.2447333  0.24406096\n",
      " 0.24137158 0.24271627 0.24069924 0.23442403 0.25930076 0.25907665\n",
      " 0.25616316 0.24831914 0.26176602 0.2447333  0.23330345 0.22613178\n",
      " 0.20103093 0.20416853 0.18870462 0.18287763 0.19049753 0.19766921\n",
      " 0.19878978 0.20080681 0.19744509 0.19520394 0.19722098 0.19229045\n",
      " 0.19789332 0.20909906 0.20730614 0.20170327 0.19004931 0.19206634\n",
      " 0.17817122 0.17548185 0.18377409 0.19139399 0.18780816 0.20192739\n",
      " 0.18511878 0.18668758 0.23263111 0.2415957  0.25750784 0.25862842\n",
      " 0.27297176 0.29112506 0.29964142 0.29157329 0.27498879 0.27947109\n",
      " 0.26781712 0.27162707 0.27431645 0.28148812 0.25145675 0.26535186\n",
      " 0.2552667  0.27588525 0.2660242  0.24831914 0.25459435 0.25728373\n",
      " 0.25773196 0.2371134  0.23823398 0.24157172 0.23744223 0.23474118\n",
      " 0.23278135 0.2311419  0.22963685 0.22819406]\n",
      "7 day output [[0.22678086]]\n",
      "8 day input [0.16248319 0.16987898 0.17525773 0.18556701 0.18915285 0.18354998\n",
      " 0.1824294  0.17256835 0.18108472 0.18153294 0.17055132 0.17189601\n",
      " 0.16943075 0.17705065 0.16270731 0.17346481 0.18646347 0.20416853\n",
      " 0.21156432 0.20259973 0.20461676 0.19520394 0.20797848 0.22142537\n",
      " 0.22142537 0.22523532 0.23890632 0.2447333  0.24406096 0.24137158\n",
      " 0.24271627 0.24069924 0.23442403 0.25930076 0.25907665 0.25616316\n",
      " 0.24831914 0.26176602 0.2447333  0.23330345 0.22613178 0.20103093\n",
      " 0.20416853 0.18870462 0.18287763 0.19049753 0.19766921 0.19878978\n",
      " 0.20080681 0.19744509 0.19520394 0.19722098 0.19229045 0.19789332\n",
      " 0.20909906 0.20730614 0.20170327 0.19004931 0.19206634 0.17817122\n",
      " 0.17548185 0.18377409 0.19139399 0.18780816 0.20192739 0.18511878\n",
      " 0.18668758 0.23263111 0.2415957  0.25750784 0.25862842 0.27297176\n",
      " 0.29112506 0.29964142 0.29157329 0.27498879 0.27947109 0.26781712\n",
      " 0.27162707 0.27431645 0.28148812 0.25145675 0.26535186 0.2552667\n",
      " 0.27588525 0.2660242  0.24831914 0.25459435 0.25728373 0.25773196\n",
      " 0.2371134  0.23823398 0.24157172 0.23744223 0.23474118 0.23278135\n",
      " 0.2311419  0.22963685 0.22819406 0.22678086]\n",
      "8 day output [[0.22537646]]\n",
      "9 day input [0.16987898 0.17525773 0.18556701 0.18915285 0.18354998 0.1824294\n",
      " 0.17256835 0.18108472 0.18153294 0.17055132 0.17189601 0.16943075\n",
      " 0.17705065 0.16270731 0.17346481 0.18646347 0.20416853 0.21156432\n",
      " 0.20259973 0.20461676 0.19520394 0.20797848 0.22142537 0.22142537\n",
      " 0.22523532 0.23890632 0.2447333  0.24406096 0.24137158 0.24271627\n",
      " 0.24069924 0.23442403 0.25930076 0.25907665 0.25616316 0.24831914\n",
      " 0.26176602 0.2447333  0.23330345 0.22613178 0.20103093 0.20416853\n",
      " 0.18870462 0.18287763 0.19049753 0.19766921 0.19878978 0.20080681\n",
      " 0.19744509 0.19520394 0.19722098 0.19229045 0.19789332 0.20909906\n",
      " 0.20730614 0.20170327 0.19004931 0.19206634 0.17817122 0.17548185\n",
      " 0.18377409 0.19139399 0.18780816 0.20192739 0.18511878 0.18668758\n",
      " 0.23263111 0.2415957  0.25750784 0.25862842 0.27297176 0.29112506\n",
      " 0.29964142 0.29157329 0.27498879 0.27947109 0.26781712 0.27162707\n",
      " 0.27431645 0.28148812 0.25145675 0.26535186 0.2552667  0.27588525\n",
      " 0.2660242  0.24831914 0.25459435 0.25728373 0.25773196 0.2371134\n",
      " 0.23823398 0.24157172 0.23744223 0.23474118 0.23278135 0.2311419\n",
      " 0.22963685 0.22819406 0.22678086 0.22537646]\n",
      "9 day output [[0.22396556]]\n",
      "10 day input [0.17525773 0.18556701 0.18915285 0.18354998 0.1824294  0.17256835\n",
      " 0.18108472 0.18153294 0.17055132 0.17189601 0.16943075 0.17705065\n",
      " 0.16270731 0.17346481 0.18646347 0.20416853 0.21156432 0.20259973\n",
      " 0.20461676 0.19520394 0.20797848 0.22142537 0.22142537 0.22523532\n",
      " 0.23890632 0.2447333  0.24406096 0.24137158 0.24271627 0.24069924\n",
      " 0.23442403 0.25930076 0.25907665 0.25616316 0.24831914 0.26176602\n",
      " 0.2447333  0.23330345 0.22613178 0.20103093 0.20416853 0.18870462\n",
      " 0.18287763 0.19049753 0.19766921 0.19878978 0.20080681 0.19744509\n",
      " 0.19520394 0.19722098 0.19229045 0.19789332 0.20909906 0.20730614\n",
      " 0.20170327 0.19004931 0.19206634 0.17817122 0.17548185 0.18377409\n",
      " 0.19139399 0.18780816 0.20192739 0.18511878 0.18668758 0.23263111\n",
      " 0.2415957  0.25750784 0.25862842 0.27297176 0.29112506 0.29964142\n",
      " 0.29157329 0.27498879 0.27947109 0.26781712 0.27162707 0.27431645\n",
      " 0.28148812 0.25145675 0.26535186 0.2552667  0.27588525 0.2660242\n",
      " 0.24831914 0.25459435 0.25728373 0.25773196 0.2371134  0.23823398\n",
      " 0.24157172 0.23744223 0.23474118 0.23278135 0.2311419  0.22963685\n",
      " 0.22819406 0.22678086 0.22537646 0.22396556]\n",
      "10 day output [[0.22253853]]\n",
      "11 day input [0.18556701 0.18915285 0.18354998 0.1824294  0.17256835 0.18108472\n",
      " 0.18153294 0.17055132 0.17189601 0.16943075 0.17705065 0.16270731\n",
      " 0.17346481 0.18646347 0.20416853 0.21156432 0.20259973 0.20461676\n",
      " 0.19520394 0.20797848 0.22142537 0.22142537 0.22523532 0.23890632\n",
      " 0.2447333  0.24406096 0.24137158 0.24271627 0.24069924 0.23442403\n",
      " 0.25930076 0.25907665 0.25616316 0.24831914 0.26176602 0.2447333\n",
      " 0.23330345 0.22613178 0.20103093 0.20416853 0.18870462 0.18287763\n",
      " 0.19049753 0.19766921 0.19878978 0.20080681 0.19744509 0.19520394\n",
      " 0.19722098 0.19229045 0.19789332 0.20909906 0.20730614 0.20170327\n",
      " 0.19004931 0.19206634 0.17817122 0.17548185 0.18377409 0.19139399\n",
      " 0.18780816 0.20192739 0.18511878 0.18668758 0.23263111 0.2415957\n",
      " 0.25750784 0.25862842 0.27297176 0.29112506 0.29964142 0.29157329\n",
      " 0.27498879 0.27947109 0.26781712 0.27162707 0.27431645 0.28148812\n",
      " 0.25145675 0.26535186 0.2552667  0.27588525 0.2660242  0.24831914\n",
      " 0.25459435 0.25728373 0.25773196 0.2371134  0.23823398 0.24157172\n",
      " 0.23744223 0.23474118 0.23278135 0.2311419  0.22963685 0.22819406\n",
      " 0.22678086 0.22537646 0.22396556 0.22253853]\n",
      "11 day output [[0.22109115]]\n",
      "12 day input [0.18915285 0.18354998 0.1824294  0.17256835 0.18108472 0.18153294\n",
      " 0.17055132 0.17189601 0.16943075 0.17705065 0.16270731 0.17346481\n",
      " 0.18646347 0.20416853 0.21156432 0.20259973 0.20461676 0.19520394\n",
      " 0.20797848 0.22142537 0.22142537 0.22523532 0.23890632 0.2447333\n",
      " 0.24406096 0.24137158 0.24271627 0.24069924 0.23442403 0.25930076\n",
      " 0.25907665 0.25616316 0.24831914 0.26176602 0.2447333  0.23330345\n",
      " 0.22613178 0.20103093 0.20416853 0.18870462 0.18287763 0.19049753\n",
      " 0.19766921 0.19878978 0.20080681 0.19744509 0.19520394 0.19722098\n",
      " 0.19229045 0.19789332 0.20909906 0.20730614 0.20170327 0.19004931\n",
      " 0.19206634 0.17817122 0.17548185 0.18377409 0.19139399 0.18780816\n",
      " 0.20192739 0.18511878 0.18668758 0.23263111 0.2415957  0.25750784\n",
      " 0.25862842 0.27297176 0.29112506 0.29964142 0.29157329 0.27498879\n",
      " 0.27947109 0.26781712 0.27162707 0.27431645 0.28148812 0.25145675\n",
      " 0.26535186 0.2552667  0.27588525 0.2660242  0.24831914 0.25459435\n",
      " 0.25728373 0.25773196 0.2371134  0.23823398 0.24157172 0.23744223\n",
      " 0.23474118 0.23278135 0.2311419  0.22963685 0.22819406 0.22678086\n",
      " 0.22537646 0.22396556 0.22253853 0.22109115]\n",
      "12 day output [[0.21962464]]\n",
      "13 day input [0.18354998 0.1824294  0.17256835 0.18108472 0.18153294 0.17055132\n",
      " 0.17189601 0.16943075 0.17705065 0.16270731 0.17346481 0.18646347\n",
      " 0.20416853 0.21156432 0.20259973 0.20461676 0.19520394 0.20797848\n",
      " 0.22142537 0.22142537 0.22523532 0.23890632 0.2447333  0.24406096\n",
      " 0.24137158 0.24271627 0.24069924 0.23442403 0.25930076 0.25907665\n",
      " 0.25616316 0.24831914 0.26176602 0.2447333  0.23330345 0.22613178\n",
      " 0.20103093 0.20416853 0.18870462 0.18287763 0.19049753 0.19766921\n",
      " 0.19878978 0.20080681 0.19744509 0.19520394 0.19722098 0.19229045\n",
      " 0.19789332 0.20909906 0.20730614 0.20170327 0.19004931 0.19206634\n",
      " 0.17817122 0.17548185 0.18377409 0.19139399 0.18780816 0.20192739\n",
      " 0.18511878 0.18668758 0.23263111 0.2415957  0.25750784 0.25862842\n",
      " 0.27297176 0.29112506 0.29964142 0.29157329 0.27498879 0.27947109\n",
      " 0.26781712 0.27162707 0.27431645 0.28148812 0.25145675 0.26535186\n",
      " 0.2552667  0.27588525 0.2660242  0.24831914 0.25459435 0.25728373\n",
      " 0.25773196 0.2371134  0.23823398 0.24157172 0.23744223 0.23474118\n",
      " 0.23278135 0.2311419  0.22963685 0.22819406 0.22678086 0.22537646\n",
      " 0.22396556 0.22253853 0.22109115 0.21962464]\n",
      "13 day output [[0.21814331]]\n",
      "14 day input [0.1824294  0.17256835 0.18108472 0.18153294 0.17055132 0.17189601\n",
      " 0.16943075 0.17705065 0.16270731 0.17346481 0.18646347 0.20416853\n",
      " 0.21156432 0.20259973 0.20461676 0.19520394 0.20797848 0.22142537\n",
      " 0.22142537 0.22523532 0.23890632 0.2447333  0.24406096 0.24137158\n",
      " 0.24271627 0.24069924 0.23442403 0.25930076 0.25907665 0.25616316\n",
      " 0.24831914 0.26176602 0.2447333  0.23330345 0.22613178 0.20103093\n",
      " 0.20416853 0.18870462 0.18287763 0.19049753 0.19766921 0.19878978\n",
      " 0.20080681 0.19744509 0.19520394 0.19722098 0.19229045 0.19789332\n",
      " 0.20909906 0.20730614 0.20170327 0.19004931 0.19206634 0.17817122\n",
      " 0.17548185 0.18377409 0.19139399 0.18780816 0.20192739 0.18511878\n",
      " 0.18668758 0.23263111 0.2415957  0.25750784 0.25862842 0.27297176\n",
      " 0.29112506 0.29964142 0.29157329 0.27498879 0.27947109 0.26781712\n",
      " 0.27162707 0.27431645 0.28148812 0.25145675 0.26535186 0.2552667\n",
      " 0.27588525 0.2660242  0.24831914 0.25459435 0.25728373 0.25773196\n",
      " 0.2371134  0.23823398 0.24157172 0.23744223 0.23474118 0.23278135\n",
      " 0.2311419  0.22963685 0.22819406 0.22678086 0.22537646 0.22396556\n",
      " 0.22253853 0.22109115 0.21962464 0.21814331]\n",
      "14 day output [[0.2166538]]\n",
      "15 day input [0.17256835 0.18108472 0.18153294 0.17055132 0.17189601 0.16943075\n",
      " 0.17705065 0.16270731 0.17346481 0.18646347 0.20416853 0.21156432\n",
      " 0.20259973 0.20461676 0.19520394 0.20797848 0.22142537 0.22142537\n",
      " 0.22523532 0.23890632 0.2447333  0.24406096 0.24137158 0.24271627\n",
      " 0.24069924 0.23442403 0.25930076 0.25907665 0.25616316 0.24831914\n",
      " 0.26176602 0.2447333  0.23330345 0.22613178 0.20103093 0.20416853\n",
      " 0.18870462 0.18287763 0.19049753 0.19766921 0.19878978 0.20080681\n",
      " 0.19744509 0.19520394 0.19722098 0.19229045 0.19789332 0.20909906\n",
      " 0.20730614 0.20170327 0.19004931 0.19206634 0.17817122 0.17548185\n",
      " 0.18377409 0.19139399 0.18780816 0.20192739 0.18511878 0.18668758\n",
      " 0.23263111 0.2415957  0.25750784 0.25862842 0.27297176 0.29112506\n",
      " 0.29964142 0.29157329 0.27498879 0.27947109 0.26781712 0.27162707\n",
      " 0.27431645 0.28148812 0.25145675 0.26535186 0.2552667  0.27588525\n",
      " 0.2660242  0.24831914 0.25459435 0.25728373 0.25773196 0.2371134\n",
      " 0.23823398 0.24157172 0.23744223 0.23474118 0.23278135 0.2311419\n",
      " 0.22963685 0.22819406 0.22678086 0.22537646 0.22396556 0.22253853\n",
      " 0.22109115 0.21962464 0.21814331 0.21665379]\n",
      "15 day output [[0.21516341]]\n",
      "16 day input [0.18108472 0.18153294 0.17055132 0.17189601 0.16943075 0.17705065\n",
      " 0.16270731 0.17346481 0.18646347 0.20416853 0.21156432 0.20259973\n",
      " 0.20461676 0.19520394 0.20797848 0.22142537 0.22142537 0.22523532\n",
      " 0.23890632 0.2447333  0.24406096 0.24137158 0.24271627 0.24069924\n",
      " 0.23442403 0.25930076 0.25907665 0.25616316 0.24831914 0.26176602\n",
      " 0.2447333  0.23330345 0.22613178 0.20103093 0.20416853 0.18870462\n",
      " 0.18287763 0.19049753 0.19766921 0.19878978 0.20080681 0.19744509\n",
      " 0.19520394 0.19722098 0.19229045 0.19789332 0.20909906 0.20730614\n",
      " 0.20170327 0.19004931 0.19206634 0.17817122 0.17548185 0.18377409\n",
      " 0.19139399 0.18780816 0.20192739 0.18511878 0.18668758 0.23263111\n",
      " 0.2415957  0.25750784 0.25862842 0.27297176 0.29112506 0.29964142\n",
      " 0.29157329 0.27498879 0.27947109 0.26781712 0.27162707 0.27431645\n",
      " 0.28148812 0.25145675 0.26535186 0.2552667  0.27588525 0.2660242\n",
      " 0.24831914 0.25459435 0.25728373 0.25773196 0.2371134  0.23823398\n",
      " 0.24157172 0.23744223 0.23474118 0.23278135 0.2311419  0.22963685\n",
      " 0.22819406 0.22678086 0.22537646 0.22396556 0.22253853 0.22109115\n",
      " 0.21962464 0.21814331 0.21665379 0.21516341]\n",
      "16 day output [[0.21367931]]\n",
      "17 day input [0.18153294 0.17055132 0.17189601 0.16943075 0.17705065 0.16270731\n",
      " 0.17346481 0.18646347 0.20416853 0.21156432 0.20259973 0.20461676\n",
      " 0.19520394 0.20797848 0.22142537 0.22142537 0.22523532 0.23890632\n",
      " 0.2447333  0.24406096 0.24137158 0.24271627 0.24069924 0.23442403\n",
      " 0.25930076 0.25907665 0.25616316 0.24831914 0.26176602 0.2447333\n",
      " 0.23330345 0.22613178 0.20103093 0.20416853 0.18870462 0.18287763\n",
      " 0.19049753 0.19766921 0.19878978 0.20080681 0.19744509 0.19520394\n",
      " 0.19722098 0.19229045 0.19789332 0.20909906 0.20730614 0.20170327\n",
      " 0.19004931 0.19206634 0.17817122 0.17548185 0.18377409 0.19139399\n",
      " 0.18780816 0.20192739 0.18511878 0.18668758 0.23263111 0.2415957\n",
      " 0.25750784 0.25862842 0.27297176 0.29112506 0.29964142 0.29157329\n",
      " 0.27498879 0.27947109 0.26781712 0.27162707 0.27431645 0.28148812\n",
      " 0.25145675 0.26535186 0.2552667  0.27588525 0.2660242  0.24831914\n",
      " 0.25459435 0.25728373 0.25773196 0.2371134  0.23823398 0.24157172\n",
      " 0.23744223 0.23474118 0.23278135 0.2311419  0.22963685 0.22819406\n",
      " 0.22678086 0.22537646 0.22396556 0.22253853 0.22109115 0.21962464\n",
      " 0.21814331 0.21665379 0.21516341 0.21367931]\n",
      "17 day output [[0.2122078]]\n",
      "18 day input [0.17055132 0.17189601 0.16943075 0.17705065 0.16270731 0.17346481\n",
      " 0.18646347 0.20416853 0.21156432 0.20259973 0.20461676 0.19520394\n",
      " 0.20797848 0.22142537 0.22142537 0.22523532 0.23890632 0.2447333\n",
      " 0.24406096 0.24137158 0.24271627 0.24069924 0.23442403 0.25930076\n",
      " 0.25907665 0.25616316 0.24831914 0.26176602 0.2447333  0.23330345\n",
      " 0.22613178 0.20103093 0.20416853 0.18870462 0.18287763 0.19049753\n",
      " 0.19766921 0.19878978 0.20080681 0.19744509 0.19520394 0.19722098\n",
      " 0.19229045 0.19789332 0.20909906 0.20730614 0.20170327 0.19004931\n",
      " 0.19206634 0.17817122 0.17548185 0.18377409 0.19139399 0.18780816\n",
      " 0.20192739 0.18511878 0.18668758 0.23263111 0.2415957  0.25750784\n",
      " 0.25862842 0.27297176 0.29112506 0.29964142 0.29157329 0.27498879\n",
      " 0.27947109 0.26781712 0.27162707 0.27431645 0.28148812 0.25145675\n",
      " 0.26535186 0.2552667  0.27588525 0.2660242  0.24831914 0.25459435\n",
      " 0.25728373 0.25773196 0.2371134  0.23823398 0.24157172 0.23744223\n",
      " 0.23474118 0.23278135 0.2311419  0.22963685 0.22819406 0.22678086\n",
      " 0.22537646 0.22396556 0.22253853 0.22109115 0.21962464 0.21814331\n",
      " 0.21665379 0.21516341 0.21367931 0.21220779]\n",
      "18 day output [[0.21075389]]\n",
      "19 day input [0.17189601 0.16943075 0.17705065 0.16270731 0.17346481 0.18646347\n",
      " 0.20416853 0.21156432 0.20259973 0.20461676 0.19520394 0.20797848\n",
      " 0.22142537 0.22142537 0.22523532 0.23890632 0.2447333  0.24406096\n",
      " 0.24137158 0.24271627 0.24069924 0.23442403 0.25930076 0.25907665\n",
      " 0.25616316 0.24831914 0.26176602 0.2447333  0.23330345 0.22613178\n",
      " 0.20103093 0.20416853 0.18870462 0.18287763 0.19049753 0.19766921\n",
      " 0.19878978 0.20080681 0.19744509 0.19520394 0.19722098 0.19229045\n",
      " 0.19789332 0.20909906 0.20730614 0.20170327 0.19004931 0.19206634\n",
      " 0.17817122 0.17548185 0.18377409 0.19139399 0.18780816 0.20192739\n",
      " 0.18511878 0.18668758 0.23263111 0.2415957  0.25750784 0.25862842\n",
      " 0.27297176 0.29112506 0.29964142 0.29157329 0.27498879 0.27947109\n",
      " 0.26781712 0.27162707 0.27431645 0.28148812 0.25145675 0.26535186\n",
      " 0.2552667  0.27588525 0.2660242  0.24831914 0.25459435 0.25728373\n",
      " 0.25773196 0.2371134  0.23823398 0.24157172 0.23744223 0.23474118\n",
      " 0.23278135 0.2311419  0.22963685 0.22819406 0.22678086 0.22537646\n",
      " 0.22396556 0.22253853 0.22109115 0.21962464 0.21814331 0.21665379\n",
      " 0.21516341 0.21367931 0.21220779 0.21075389]\n",
      "19 day output [[0.20932117]]\n",
      "20 day input [0.16943075 0.17705065 0.16270731 0.17346481 0.18646347 0.20416853\n",
      " 0.21156432 0.20259973 0.20461676 0.19520394 0.20797848 0.22142537\n",
      " 0.22142537 0.22523532 0.23890632 0.2447333  0.24406096 0.24137158\n",
      " 0.24271627 0.24069924 0.23442403 0.25930076 0.25907665 0.25616316\n",
      " 0.24831914 0.26176602 0.2447333  0.23330345 0.22613178 0.20103093\n",
      " 0.20416853 0.18870462 0.18287763 0.19049753 0.19766921 0.19878978\n",
      " 0.20080681 0.19744509 0.19520394 0.19722098 0.19229045 0.19789332\n",
      " 0.20909906 0.20730614 0.20170327 0.19004931 0.19206634 0.17817122\n",
      " 0.17548185 0.18377409 0.19139399 0.18780816 0.20192739 0.18511878\n",
      " 0.18668758 0.23263111 0.2415957  0.25750784 0.25862842 0.27297176\n",
      " 0.29112506 0.29964142 0.29157329 0.27498879 0.27947109 0.26781712\n",
      " 0.27162707 0.27431645 0.28148812 0.25145675 0.26535186 0.2552667\n",
      " 0.27588525 0.2660242  0.24831914 0.25459435 0.25728373 0.25773196\n",
      " 0.2371134  0.23823398 0.24157172 0.23744223 0.23474118 0.23278135\n",
      " 0.2311419  0.22963685 0.22819406 0.22678086 0.22537646 0.22396556\n",
      " 0.22253853 0.22109115 0.21962464 0.21814331 0.21665379 0.21516341\n",
      " 0.21367931 0.21220779 0.21075389 0.20932117]\n",
      "20 day output [[0.20791191]]\n",
      "21 day input [0.17705065 0.16270731 0.17346481 0.18646347 0.20416853 0.21156432\n",
      " 0.20259973 0.20461676 0.19520394 0.20797848 0.22142537 0.22142537\n",
      " 0.22523532 0.23890632 0.2447333  0.24406096 0.24137158 0.24271627\n",
      " 0.24069924 0.23442403 0.25930076 0.25907665 0.25616316 0.24831914\n",
      " 0.26176602 0.2447333  0.23330345 0.22613178 0.20103093 0.20416853\n",
      " 0.18870462 0.18287763 0.19049753 0.19766921 0.19878978 0.20080681\n",
      " 0.19744509 0.19520394 0.19722098 0.19229045 0.19789332 0.20909906\n",
      " 0.20730614 0.20170327 0.19004931 0.19206634 0.17817122 0.17548185\n",
      " 0.18377409 0.19139399 0.18780816 0.20192739 0.18511878 0.18668758\n",
      " 0.23263111 0.2415957  0.25750784 0.25862842 0.27297176 0.29112506\n",
      " 0.29964142 0.29157329 0.27498879 0.27947109 0.26781712 0.27162707\n",
      " 0.27431645 0.28148812 0.25145675 0.26535186 0.2552667  0.27588525\n",
      " 0.2660242  0.24831914 0.25459435 0.25728373 0.25773196 0.2371134\n",
      " 0.23823398 0.24157172 0.23744223 0.23474118 0.23278135 0.2311419\n",
      " 0.22963685 0.22819406 0.22678086 0.22537646 0.22396556 0.22253853\n",
      " 0.22109115 0.21962464 0.21814331 0.21665379 0.21516341 0.21367931\n",
      " 0.21220779 0.21075389 0.20932117 0.20791191]\n",
      "21 day output [[0.20652735]]\n",
      "22 day input [0.16270731 0.17346481 0.18646347 0.20416853 0.21156432 0.20259973\n",
      " 0.20461676 0.19520394 0.20797848 0.22142537 0.22142537 0.22523532\n",
      " 0.23890632 0.2447333  0.24406096 0.24137158 0.24271627 0.24069924\n",
      " 0.23442403 0.25930076 0.25907665 0.25616316 0.24831914 0.26176602\n",
      " 0.2447333  0.23330345 0.22613178 0.20103093 0.20416853 0.18870462\n",
      " 0.18287763 0.19049753 0.19766921 0.19878978 0.20080681 0.19744509\n",
      " 0.19520394 0.19722098 0.19229045 0.19789332 0.20909906 0.20730614\n",
      " 0.20170327 0.19004931 0.19206634 0.17817122 0.17548185 0.18377409\n",
      " 0.19139399 0.18780816 0.20192739 0.18511878 0.18668758 0.23263111\n",
      " 0.2415957  0.25750784 0.25862842 0.27297176 0.29112506 0.29964142\n",
      " 0.29157329 0.27498879 0.27947109 0.26781712 0.27162707 0.27431645\n",
      " 0.28148812 0.25145675 0.26535186 0.2552667  0.27588525 0.2660242\n",
      " 0.24831914 0.25459435 0.25728373 0.25773196 0.2371134  0.23823398\n",
      " 0.24157172 0.23744223 0.23474118 0.23278135 0.2311419  0.22963685\n",
      " 0.22819406 0.22678086 0.22537646 0.22396556 0.22253853 0.22109115\n",
      " 0.21962464 0.21814331 0.21665379 0.21516341 0.21367931 0.21220779\n",
      " 0.21075389 0.20932117 0.20791191 0.20652735]\n",
      "22 day output [[0.20516765]]\n",
      "23 day input [0.17346481 0.18646347 0.20416853 0.21156432 0.20259973 0.20461676\n",
      " 0.19520394 0.20797848 0.22142537 0.22142537 0.22523532 0.23890632\n",
      " 0.2447333  0.24406096 0.24137158 0.24271627 0.24069924 0.23442403\n",
      " 0.25930076 0.25907665 0.25616316 0.24831914 0.26176602 0.2447333\n",
      " 0.23330345 0.22613178 0.20103093 0.20416853 0.18870462 0.18287763\n",
      " 0.19049753 0.19766921 0.19878978 0.20080681 0.19744509 0.19520394\n",
      " 0.19722098 0.19229045 0.19789332 0.20909906 0.20730614 0.20170327\n",
      " 0.19004931 0.19206634 0.17817122 0.17548185 0.18377409 0.19139399\n",
      " 0.18780816 0.20192739 0.18511878 0.18668758 0.23263111 0.2415957\n",
      " 0.25750784 0.25862842 0.27297176 0.29112506 0.29964142 0.29157329\n",
      " 0.27498879 0.27947109 0.26781712 0.27162707 0.27431645 0.28148812\n",
      " 0.25145675 0.26535186 0.2552667  0.27588525 0.2660242  0.24831914\n",
      " 0.25459435 0.25728373 0.25773196 0.2371134  0.23823398 0.24157172\n",
      " 0.23744223 0.23474118 0.23278135 0.2311419  0.22963685 0.22819406\n",
      " 0.22678086 0.22537646 0.22396556 0.22253853 0.22109115 0.21962464\n",
      " 0.21814331 0.21665379 0.21516341 0.21367931 0.21220779 0.21075389\n",
      " 0.20932117 0.20791191 0.20652735 0.20516765]\n",
      "23 day output [[0.20383239]]\n",
      "24 day input [0.18646347 0.20416853 0.21156432 0.20259973 0.20461676 0.19520394\n",
      " 0.20797848 0.22142537 0.22142537 0.22523532 0.23890632 0.2447333\n",
      " 0.24406096 0.24137158 0.24271627 0.24069924 0.23442403 0.25930076\n",
      " 0.25907665 0.25616316 0.24831914 0.26176602 0.2447333  0.23330345\n",
      " 0.22613178 0.20103093 0.20416853 0.18870462 0.18287763 0.19049753\n",
      " 0.19766921 0.19878978 0.20080681 0.19744509 0.19520394 0.19722098\n",
      " 0.19229045 0.19789332 0.20909906 0.20730614 0.20170327 0.19004931\n",
      " 0.19206634 0.17817122 0.17548185 0.18377409 0.19139399 0.18780816\n",
      " 0.20192739 0.18511878 0.18668758 0.23263111 0.2415957  0.25750784\n",
      " 0.25862842 0.27297176 0.29112506 0.29964142 0.29157329 0.27498879\n",
      " 0.27947109 0.26781712 0.27162707 0.27431645 0.28148812 0.25145675\n",
      " 0.26535186 0.2552667  0.27588525 0.2660242  0.24831914 0.25459435\n",
      " 0.25728373 0.25773196 0.2371134  0.23823398 0.24157172 0.23744223\n",
      " 0.23474118 0.23278135 0.2311419  0.22963685 0.22819406 0.22678086\n",
      " 0.22537646 0.22396556 0.22253853 0.22109115 0.21962464 0.21814331\n",
      " 0.21665379 0.21516341 0.21367931 0.21220779 0.21075389 0.20932117\n",
      " 0.20791191 0.20652735 0.20516765 0.20383239]\n",
      "24 day output [[0.20252058]]\n",
      "25 day input [0.20416853 0.21156432 0.20259973 0.20461676 0.19520394 0.20797848\n",
      " 0.22142537 0.22142537 0.22523532 0.23890632 0.2447333  0.24406096\n",
      " 0.24137158 0.24271627 0.24069924 0.23442403 0.25930076 0.25907665\n",
      " 0.25616316 0.24831914 0.26176602 0.2447333  0.23330345 0.22613178\n",
      " 0.20103093 0.20416853 0.18870462 0.18287763 0.19049753 0.19766921\n",
      " 0.19878978 0.20080681 0.19744509 0.19520394 0.19722098 0.19229045\n",
      " 0.19789332 0.20909906 0.20730614 0.20170327 0.19004931 0.19206634\n",
      " 0.17817122 0.17548185 0.18377409 0.19139399 0.18780816 0.20192739\n",
      " 0.18511878 0.18668758 0.23263111 0.2415957  0.25750784 0.25862842\n",
      " 0.27297176 0.29112506 0.29964142 0.29157329 0.27498879 0.27947109\n",
      " 0.26781712 0.27162707 0.27431645 0.28148812 0.25145675 0.26535186\n",
      " 0.2552667  0.27588525 0.2660242  0.24831914 0.25459435 0.25728373\n",
      " 0.25773196 0.2371134  0.23823398 0.24157172 0.23744223 0.23474118\n",
      " 0.23278135 0.2311419  0.22963685 0.22819406 0.22678086 0.22537646\n",
      " 0.22396556 0.22253853 0.22109115 0.21962464 0.21814331 0.21665379\n",
      " 0.21516341 0.21367931 0.21220779 0.21075389 0.20932117 0.20791191\n",
      " 0.20652735 0.20516765 0.20383239 0.20252058]\n",
      "25 day output [[0.20123121]]\n",
      "26 day input [0.21156432 0.20259973 0.20461676 0.19520394 0.20797848 0.22142537\n",
      " 0.22142537 0.22523532 0.23890632 0.2447333  0.24406096 0.24137158\n",
      " 0.24271627 0.24069924 0.23442403 0.25930076 0.25907665 0.25616316\n",
      " 0.24831914 0.26176602 0.2447333  0.23330345 0.22613178 0.20103093\n",
      " 0.20416853 0.18870462 0.18287763 0.19049753 0.19766921 0.19878978\n",
      " 0.20080681 0.19744509 0.19520394 0.19722098 0.19229045 0.19789332\n",
      " 0.20909906 0.20730614 0.20170327 0.19004931 0.19206634 0.17817122\n",
      " 0.17548185 0.18377409 0.19139399 0.18780816 0.20192739 0.18511878\n",
      " 0.18668758 0.23263111 0.2415957  0.25750784 0.25862842 0.27297176\n",
      " 0.29112506 0.29964142 0.29157329 0.27498879 0.27947109 0.26781712\n",
      " 0.27162707 0.27431645 0.28148812 0.25145675 0.26535186 0.2552667\n",
      " 0.27588525 0.2660242  0.24831914 0.25459435 0.25728373 0.25773196\n",
      " 0.2371134  0.23823398 0.24157172 0.23744223 0.23474118 0.23278135\n",
      " 0.2311419  0.22963685 0.22819406 0.22678086 0.22537646 0.22396556\n",
      " 0.22253853 0.22109115 0.21962464 0.21814331 0.21665379 0.21516341\n",
      " 0.21367931 0.21220779 0.21075389 0.20932117 0.20791191 0.20652735\n",
      " 0.20516765 0.20383239 0.20252058 0.20123121]\n",
      "26 day output [[0.19996297]]\n",
      "27 day input [0.20259973 0.20461676 0.19520394 0.20797848 0.22142537 0.22142537\n",
      " 0.22523532 0.23890632 0.2447333  0.24406096 0.24137158 0.24271627\n",
      " 0.24069924 0.23442403 0.25930076 0.25907665 0.25616316 0.24831914\n",
      " 0.26176602 0.2447333  0.23330345 0.22613178 0.20103093 0.20416853\n",
      " 0.18870462 0.18287763 0.19049753 0.19766921 0.19878978 0.20080681\n",
      " 0.19744509 0.19520394 0.19722098 0.19229045 0.19789332 0.20909906\n",
      " 0.20730614 0.20170327 0.19004931 0.19206634 0.17817122 0.17548185\n",
      " 0.18377409 0.19139399 0.18780816 0.20192739 0.18511878 0.18668758\n",
      " 0.23263111 0.2415957  0.25750784 0.25862842 0.27297176 0.29112506\n",
      " 0.29964142 0.29157329 0.27498879 0.27947109 0.26781712 0.27162707\n",
      " 0.27431645 0.28148812 0.25145675 0.26535186 0.2552667  0.27588525\n",
      " 0.2660242  0.24831914 0.25459435 0.25728373 0.25773196 0.2371134\n",
      " 0.23823398 0.24157172 0.23744223 0.23474118 0.23278135 0.2311419\n",
      " 0.22963685 0.22819406 0.22678086 0.22537646 0.22396556 0.22253853\n",
      " 0.22109115 0.21962464 0.21814331 0.21665379 0.21516341 0.21367931\n",
      " 0.21220779 0.21075389 0.20932117 0.20791191 0.20652735 0.20516765\n",
      " 0.20383239 0.20252058 0.20123121 0.19996297]\n",
      "27 day output [[0.19871491]]\n",
      "28 day input [0.20461676 0.19520394 0.20797848 0.22142537 0.22142537 0.22523532\n",
      " 0.23890632 0.2447333  0.24406096 0.24137158 0.24271627 0.24069924\n",
      " 0.23442403 0.25930076 0.25907665 0.25616316 0.24831914 0.26176602\n",
      " 0.2447333  0.23330345 0.22613178 0.20103093 0.20416853 0.18870462\n",
      " 0.18287763 0.19049753 0.19766921 0.19878978 0.20080681 0.19744509\n",
      " 0.19520394 0.19722098 0.19229045 0.19789332 0.20909906 0.20730614\n",
      " 0.20170327 0.19004931 0.19206634 0.17817122 0.17548185 0.18377409\n",
      " 0.19139399 0.18780816 0.20192739 0.18511878 0.18668758 0.23263111\n",
      " 0.2415957  0.25750784 0.25862842 0.27297176 0.29112506 0.29964142\n",
      " 0.29157329 0.27498879 0.27947109 0.26781712 0.27162707 0.27431645\n",
      " 0.28148812 0.25145675 0.26535186 0.2552667  0.27588525 0.2660242\n",
      " 0.24831914 0.25459435 0.25728373 0.25773196 0.2371134  0.23823398\n",
      " 0.24157172 0.23744223 0.23474118 0.23278135 0.2311419  0.22963685\n",
      " 0.22819406 0.22678086 0.22537646 0.22396556 0.22253853 0.22109115\n",
      " 0.21962464 0.21814331 0.21665379 0.21516341 0.21367931 0.21220779\n",
      " 0.21075389 0.20932117 0.20791191 0.20652735 0.20516765 0.20383239\n",
      " 0.20252058 0.20123121 0.19996297 0.19871491]\n",
      "28 day output [[0.19748595]]\n",
      "29 day input [0.19520394 0.20797848 0.22142537 0.22142537 0.22523532 0.23890632\n",
      " 0.2447333  0.24406096 0.24137158 0.24271627 0.24069924 0.23442403\n",
      " 0.25930076 0.25907665 0.25616316 0.24831914 0.26176602 0.2447333\n",
      " 0.23330345 0.22613178 0.20103093 0.20416853 0.18870462 0.18287763\n",
      " 0.19049753 0.19766921 0.19878978 0.20080681 0.19744509 0.19520394\n",
      " 0.19722098 0.19229045 0.19789332 0.20909906 0.20730614 0.20170327\n",
      " 0.19004931 0.19206634 0.17817122 0.17548185 0.18377409 0.19139399\n",
      " 0.18780816 0.20192739 0.18511878 0.18668758 0.23263111 0.2415957\n",
      " 0.25750784 0.25862842 0.27297176 0.29112506 0.29964142 0.29157329\n",
      " 0.27498879 0.27947109 0.26781712 0.27162707 0.27431645 0.28148812\n",
      " 0.25145675 0.26535186 0.2552667  0.27588525 0.2660242  0.24831914\n",
      " 0.25459435 0.25728373 0.25773196 0.2371134  0.23823398 0.24157172\n",
      " 0.23744223 0.23474118 0.23278135 0.2311419  0.22963685 0.22819406\n",
      " 0.22678086 0.22537646 0.22396556 0.22253853 0.22109115 0.21962464\n",
      " 0.21814331 0.21665379 0.21516341 0.21367931 0.21220779 0.21075389\n",
      " 0.20932117 0.20791191 0.20652735 0.20516765 0.20383239 0.20252058\n",
      " 0.20123121 0.19996297 0.19871491 0.19748595]\n",
      "29 day output [[0.19627547]]\n",
      "[[0.24157172441482544], [0.2374422252178192], [0.2347411811351776], [0.23278135061264038], [0.23114189505577087], [0.22963684797286987], [0.22819405794143677], [0.22678086161613464], [0.2253764569759369], [0.22396555542945862], [0.2225385308265686], [0.2210911512374878], [0.21962463855743408], [0.2181433141231537], [0.21665379405021667], [0.21516340970993042], [0.21367931365966797], [0.21220779418945312], [0.2107538878917694], [0.20932117104530334], [0.2079119086265564], [0.20652735233306885], [0.20516765117645264], [0.20383238792419434], [0.20252057909965515], [0.2012312114238739], [0.19996297359466553], [0.19871491193771362], [0.19748595356941223], [0.1962754726409912]]\n"
     ]
    }
   ],
   "source": [
    "# demonstrate prediction for next 10 days\n",
    "from numpy import array\n",
    "n_steps=100\n",
    "lst_output=[]\n",
    "n_steps=100\n",
    "i=0\n",
    "while(i<30):\n",
    "    if(len(temp_input)>100):\n",
    "        #print(temp_input)\n",
    "        x_input=np.array(temp_input[1:])\n",
    "        print('{} day input {}'.format(i,x_input))\n",
    "        x_input=x_input.reshape(1,-1)\n",
    "        x_input=x_input.reshape(1,n_steps,1)\n",
    "        #print(x_input)\n",
    "        yhat=model.predict(x_input,verbose=0)\n",
    "        print('{} day output {}'.format(i,yhat))\n",
    "        temp_input.extend(yhat[0].tolist())\n",
    "        temp_input=temp_input[1:]\n",
    "        #print(temp_input)\n",
    "        lst_output.extend(yhat.tolist())\n",
    "        i=i+1\n",
    "    else:\n",
    "        x_input=x_input.reshape(1,n_steps,1)\n",
    "        yhat=model.predict(x_input,verbose=0)\n",
    "        print(yhat[0])\n",
    "        temp_input.extend(yhat[0].tolist())\n",
    "        print(len(temp_input))\n",
    "        lst_output.extend(yhat.tolist())\n",
    "        i=i+1\n",
    "\n",
    "print(lst_output)"
   ]
  },
  {
   "cell_type": "code",
   "execution_count": 36,
   "id": "0b283b9c",
   "metadata": {},
   "outputs": [],
   "source": [
    "day_new=np.arange(1,101)\n",
    "day_pred=np.arange(101,131)"
   ]
  },
  {
   "cell_type": "code",
   "execution_count": 37,
   "id": "5bcc0380",
   "metadata": {},
   "outputs": [],
   "source": [
    "import matplotlib.pyplot as plt"
   ]
  },
  {
   "cell_type": "code",
   "execution_count": 38,
   "id": "b7ecd6ff",
   "metadata": {},
   "outputs": [
    {
     "data": {
      "text/plain": [
       "1235"
      ]
     },
     "execution_count": 38,
     "metadata": {},
     "output_type": "execute_result"
    }
   ],
   "source": [
    "len(df1)"
   ]
  },
  {
   "cell_type": "code",
   "execution_count": 39,
   "id": "06823d24",
   "metadata": {},
   "outputs": [],
   "source": [
    "df3=df1.tolist()\n",
    "df3.extend(lst_output)"
   ]
  },
  {
   "cell_type": "code",
   "execution_count": 40,
   "id": "75d07963",
   "metadata": {},
   "outputs": [
    {
     "data": {
      "text/plain": [
       "[<matplotlib.lines.Line2D at 0x14cffb9fa90>]"
      ]
     },
     "execution_count": 40,
     "metadata": {},
     "output_type": "execute_result"
    },
    {
     "data": {
      "image/png": "[encoded data removed]",
      "text/plain": [
       "<Figure size 432x288 with 1 Axes>"
      ]
     },
     "metadata": {
      "needs_background": "light"
     },
     "output_type": "display_data"
    }
   ],
   "source": [
    "plt.plot(day_new,scaler.inverse_transform(df1[1135:]))\n",
    "plt.plot(day_pred,scaler.inverse_transform(lst_output))"
   ]
  },
  {
   "cell_type": "code",
   "execution_count": 41,
   "id": "ef575d19",
   "metadata": {},
   "outputs": [
    {
     "data": {
      "text/plain": [
       "[<matplotlib.lines.Line2D at 0x14cffc09b10>]"
      ]
     },
     "execution_count": 41,
     "metadata": {},
     "output_type": "execute_result"
    },
    {
     "data": {
      "image/png": "[encoded data removed]",
      "text/plain": [
       "<Figure size 432x288 with 1 Axes>"
      ]
     },
     "metadata": {
      "needs_background": "light"
     },
     "output_type": "display_data"
    }
   ],
   "source": [
    "df3=df1.tolist()\n",
    "df3.extend(lst_output)\n",
    "plt.plot(df3[900:])"
   ]
  },
  {
   "cell_type": "code",
   "execution_count": null,
   "id": "11a6c8bb",
   "metadata": {},
   "outputs": [],
   "source": []
  }
 ],
 "metadata": {
  "kernelspec": {
   "display_name": "Python 3.10.5 64-bit",
   "language": "python",
   "name": "python3"
  },
  "language_info": {
   "codemirror_mode": {
    "name": "ipython",
    "version": 3
   },
   "file_extension": ".py",
   "mimetype": "text/x-python",
   "name": "python",
   "nbconvert_exporter": "python",
   "pygments_lexer": "ipython3",
   "version": "3.10.5"
  },
  "vscode": {
   "interpreter": {
    "hash": "658b2cc186d9bfbef875dcda5bf82a5d5e16ee8d516f4a57941142629d6783f6"
   }
  }
 },
 "nbformat": 4,
 "nbformat_minor": 5
}
